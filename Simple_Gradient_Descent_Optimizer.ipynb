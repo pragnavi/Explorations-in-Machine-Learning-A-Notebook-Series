{
  "nbformat": 4,
  "nbformat_minor": 0,
  "metadata": {
    "colab": {
      "provenance": [],
      "include_colab_link": true
    },
    "kernelspec": {
      "name": "python3",
      "display_name": "Python 3"
    },
    "language_info": {
      "name": "python"
    }
  },
  "cells": [
    {
      "cell_type": "markdown",
      "metadata": {
        "id": "view-in-github",
        "colab_type": "text"
      },
      "source": [
        "<a href=\"https://colab.research.google.com/github/pragnavi/Machine-Learning/blob/master/pr2370_MLFall_22_Lec6_Optimization_in_Class_Exercise.ipynb\" target=\"_parent\"><img src=\"https://colab.research.google.com/assets/colab-badge.svg\" alt=\"Open In Colab\"/></a>"
      ]
    },
    {
      "cell_type": "markdown",
      "source": [
        "# In-Class Exercise\n",
        "\n",
        "Try to a build a simple optimizer to minimize:\n",
        "$f(w) = a[0]*w^d + a[1]*w^(d-1) + ... + a[d]$\n",
        "    \n",
        "\n",
        "for the coefficients `a = [1,0,-2,0.5,0]`\n",
        "\n",
        "\n",
        "*  Plot the function f(w)\n",
        "*  Can you see where the minima is?\n",
        "*  Write a function that outputs f(w) and its gradient.\n",
        "*  Test the gradient\n",
        "*  Run the optimizer on the function to see if it finds the minima.\n",
        "*  Print the funciton value and number of iterations.\n",
        "\n",
        "Bonus: Instead of writing the function for a specific coefficient vector a, create a class that works for an arbitrary vector a.\n",
        "You may wish to use the `np.polyval(a,x)` method to evaluate the polynomial."
      ],
      "metadata": {
        "id": "gBK_H1X7Zv3q"
      }
    },
    {
      "cell_type": "code",
      "source": [
        "import numpy as np\n",
        "import matplotlib.pyplot as plt\n",
        "import random"
      ],
      "metadata": {
        "id": "Z15n51UUatmF"
      },
      "execution_count": null,
      "outputs": []
    },
    {
      "cell_type": "markdown",
      "source": [
        "**Plotting the function f(w) vs w**"
      ],
      "metadata": {
        "id": "Zp3UCyWubzau"
      }
    },
    {
      "cell_type": "code",
      "source": [
        "a = np.array([1,0,-2,0.5,0])\n",
        "d = a.size\n",
        "w0 = random.random()\n",
        "hist = {'w': [], 'f': []}\n",
        "f0 = 0"
      ],
      "metadata": {
        "id": "ARZ4kBot6-qx"
      },
      "execution_count": null,
      "outputs": []
    },
    {
      "cell_type": "code",
      "source": [
        "for w in range(1000):\n",
        "  wt = np.empty(a.size)\n",
        "  for i in range(d):\n",
        "    wt[i] = pow(w,(d-i-1))\n",
        "  f = a.dot(wt)\n",
        "  hist['f'].append(f)\n",
        "  hist['w'].append(w)\n",
        "print(\"Local Minima is encountered at w = \", np.argmin(hist['f']))\n",
        "plt.plot(hist['w'],hist['f'],'r')\n",
        "plt.grid(\"True\")\n",
        "plt.ylabel(\"f(w)\")\n",
        "plt.xlabel(\"w\")"
      ],
      "metadata": {
        "colab": {
          "base_uri": "https://localhost:8080/",
          "height": 324
        },
        "id": "FVY6UX5tOaMi",
        "outputId": "48e41f57-98d4-4e35-ec28-0b9611fa5085"
      },
      "execution_count": null,
      "outputs": [
        {
          "output_type": "stream",
          "name": "stdout",
          "text": [
            "Local Minima is encountered at w =  1\n"
          ]
        },
        {
          "output_type": "execute_result",
          "data": {
            "text/plain": [
              "Text(0.5, 0, 'w')"
            ]
          },
          "metadata": {},
          "execution_count": 412
        },
        {
          "output_type": "display_data",
          "data": {
            "text/plain": [
              "<Figure size 432x288 with 1 Axes>"
            ],
            "image/png": "[encoded data removed]"
          },
          "metadata": {
            "needs_background": "light"
          }
        }
      ]
    },
    {
      "cell_type": "markdown",
      "source": [
        "**Minima**\n",
        "It looks like a local minima is encounterd at w = 1, f(w) = -0.5 and the function is increasing thereafter."
      ],
      "metadata": {
        "id": "gN9hMrvKcbaw"
      }
    },
    {
      "cell_type": "markdown",
      "source": [
        "**Function & Gradient Evaluation**"
      ],
      "metadata": {
        "id": "7hrGWr5Ver7Z"
      }
    },
    {
      "cell_type": "code",
      "source": [
        "def feval(w,a):\n",
        "\n",
        "  d = a.size\n",
        "  f = 0\n",
        "  fgrad = 0\n",
        "  w0 = np.empty(a.size)\n",
        "  for i in range(d):\n",
        "    w0[i] = pow(w,(d-i-1))\n",
        "  f = a.dot(w0)\n",
        "\n",
        "  #Gradient\n",
        "  w0 = np.empty(a.size)\n",
        "  for i in range(d):\n",
        "    w0[i] = (d-i-1)*pow(w,(d-i-2))\n",
        "  fgrad = a.dot(w0)\n",
        "\n",
        "  return f, fgrad"
      ],
      "metadata": {
        "id": "9gA9QpjZ7ucF"
      },
      "execution_count": null,
      "outputs": []
    },
    {
      "cell_type": "code",
      "source": [
        "feval_param = lambda w: feval(w,a)"
      ],
      "metadata": {
        "id": "IGO3awF869q5"
      },
      "execution_count": null,
      "outputs": []
    },
    {
      "cell_type": "markdown",
      "source": [
        "**Testing the gradient**"
      ],
      "metadata": {
        "id": "QYlYhwwce4eP"
      }
    },
    {
      "cell_type": "code",
      "source": [
        "# Initial condition\n",
        "w0 = random.random()\n",
        "\n",
        "# Perturb the point\n",
        "step = 1e-6\n",
        "w1 = w0 + step*random.random()\n",
        "\n",
        "# Measure the function and gradient at w0 and w1\n",
        "f0, fgrad0 = feval_param(w0)\n",
        "f1, fgrad1 = feval_param(w1)\n",
        "\n",
        "# Predict the amount the function should have changed based on the gradient\n",
        "df_est = fgrad0*(w1-w0)\n",
        "\n",
        "# Print the two values to see if they are close\n",
        "print(\"Actual f1-f0    = %12.4e\" % (f1-f0))\n",
        "print(\"Predicted f1-f0 = %12.4e\" % df_est)"
      ],
      "metadata": {
        "colab": {
          "base_uri": "https://localhost:8080/"
        },
        "id": "9g9taF_pOUtm",
        "outputId": "38a5cdcd-271e-4492-b4fa-830340784a09"
      },
      "execution_count": null,
      "outputs": [
        {
          "output_type": "stream",
          "name": "stdout",
          "text": [
            "Actual f1-f0    =  -9.4629e-08\n",
            "Predicted f1-f0 =  -9.4629e-08\n"
          ]
        }
      ]
    },
    {
      "cell_type": "markdown",
      "source": [
        "**A Simple Gradient Descent Optimizer**"
      ],
      "metadata": {
        "id": "QB3G_LFahKVu"
      }
    },
    {
      "cell_type": "code",
      "source": [
        "def grad_opt_simp(feval, winit, lr=1e-3,nit=1000):\n",
        "    \"\"\"\n",
        "    Simple gradient descent optimization\n",
        "\n",
        "    feval:  A function that returns f, fgrad, the objective\n",
        "            function and its gradient\n",
        "    winit:  Initial estimate\n",
        "    lr:     learning rate\n",
        "    nit:    Number of iterations\n",
        "    \"\"\"\n",
        "    # Initialize\n",
        "    w0 = winit\n",
        "\n",
        "    # Create history dictionary for tracking progress per iteration.\n",
        "    # This isn't necessary if you just want the final answer, but it\n",
        "    # is useful for debugging\n",
        "    hist = {'w': [], 'f': []}\n",
        "\n",
        "    # Loop over iterations\n",
        "    for it in range(nit):\n",
        "\n",
        "        # Evaluate the function and gradient\n",
        "        f0, fgrad0 = feval(w0)\n",
        "\n",
        "        # Take a gradient step\n",
        "        w0 = w0 - lr*fgrad0\n",
        "\n",
        "         # Save history\n",
        "        hist['f'].append(f0)\n",
        "        hist['w'].append(w0)\n",
        "\n",
        "    # Convert to numpy arrays\n",
        "    for elem in ('f', 'w'):\n",
        "        hist[elem] = np.array(hist[elem])\n",
        "    return w0, f0, hist"
      ],
      "metadata": {
        "id": "DSl-JZ7ihQfk"
      },
      "execution_count": null,
      "outputs": []
    },
    {
      "cell_type": "code",
      "source": [
        "# Initial condition\n",
        "winit = random.random()\n",
        "\n",
        "# Parameters\n",
        "feval = feval\n",
        "nit = 1000\n",
        "lr = 1e-4\n",
        "\n",
        "# Run the gradient descent\n",
        "w, f0, hist = grad_opt_simp(feval_param, winit, lr=lr, nit=nit)\n",
        "\n",
        "print(\"Function Value:\", f0)\n",
        "print(\"Number of iterations:\",len(hist['f']))"
      ],
      "metadata": {
        "colab": {
          "base_uri": "https://localhost:8080/"
        },
        "id": "lLPhTs2Lhx0A",
        "outputId": "b3903229-88b0-49bf-933f-4363e5ea6eb0"
      },
      "execution_count": null,
      "outputs": [
        {
          "output_type": "stream",
          "name": "stdout",
          "text": [
            "Function Value: 0.006471669457286125\n",
            "Number of iterations: 1000\n"
          ]
        }
      ]
    },
    {
      "cell_type": "markdown",
      "source": [
        "**A class that works for an arbitrary vector a**"
      ],
      "metadata": {
        "id": "sI5kkZ6WC8_3"
      }
    },
    {
      "cell_type": "code",
      "source": [
        "class LogisticFun(object):\n",
        "  def __init__(self,a):\n",
        "    self.a = a\n",
        "\n",
        "  def feval(self,w):\n",
        "    f = np.polyval(self.a,w)\n",
        "\n",
        "    #Gradient\n",
        "    d = self.a.size\n",
        "    w0 = np.empty(self.a.size)\n",
        "    for i in range(d):\n",
        "      w0[i] = (d-i-1)*pow(w,(d-i-2))\n",
        "    fgrad = self.a.dot(w0)\n",
        "\n",
        "    return f, fgrad"
      ],
      "metadata": {
        "id": "ppejBBTY_O-o"
      },
      "execution_count": null,
      "outputs": []
    },
    {
      "cell_type": "code",
      "source": [
        "n = random.randint(0, 100)\n",
        "a = np.random.randn(n)\n",
        "log_fun = LogisticFun(a)\n",
        "\n",
        "# Initial condition\n",
        "w0 = random.random()\n",
        "\n",
        "# Perturb the point\n",
        "step = 1e-6\n",
        "w1 = w0 + step*random.random()\n",
        "\n",
        "f0, fgrad0 = log_fun.feval(w0)\n",
        "f1, fgrad1 = log_fun.feval(w1)\n",
        "\n",
        "# Predict the amount the function should have changed based on the gradient\n",
        "df_est = fgrad0*(w1-w0)\n",
        "\n",
        "# Print the two values to see if they are close\n",
        "print(\"Actual f1-f0    = %12.4e\" % (f1-f0))\n",
        "print(\"Predicted f1-f0 = %12.4e\" % df_est)"
      ],
      "metadata": {
        "colab": {
          "base_uri": "https://localhost:8080/"
        },
        "id": "JsFKMclVBEPb",
        "outputId": "d7f7dc5f-28eb-4bc5-9629-1ed2c8765427"
      },
      "execution_count": null,
      "outputs": [
        {
          "output_type": "stream",
          "name": "stdout",
          "text": [
            "Actual f1-f0    =  -5.2786e-07\n",
            "Predicted f1-f0 =  -5.2786e-07\n"
          ]
        }
      ]
    }
  ]
}
