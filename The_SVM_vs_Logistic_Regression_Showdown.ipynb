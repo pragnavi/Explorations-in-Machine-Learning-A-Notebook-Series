{
  "cells": [
    {
      "cell_type": "markdown",
      "metadata": {
        "id": "view-in-github",
        "colab_type": "text"
      },
      "source": [
        "<a href=\"https://colab.research.google.com/github/pragnavi/Machine-Learning/blob/master/The_SVM_vs_Logistic_Regression_Showdown.ipynb\" target=\"_parent\"><img src=\"https://colab.research.google.com/assets/colab-badge.svg\" alt=\"Open In Colab\"/></a>"
      ]
    },
    {
      "cell_type": "markdown",
      "metadata": {
        "id": "YLSs1Eby_pPk"
      },
      "source": [
        "# The SVM vs. Logistic Regression Showdown\n",
        "\n",
        "In this lab, you will practice working with non-linear kernels combined with logistic regression and SVM classifiers. The goal is to compare these commonly used techniques. Which comes out on top in terms of accuracy? Runtime? Is there much of a difference at all? Is the dominance of the SVM classifier in machine learning pedagogy justified?"
      ]
    },
    {
      "cell_type": "markdown",
      "metadata": {
        "id": "Msj5mwJs_pPl"
      },
      "source": [
        "## Loading the Data\n",
        "\n",
        "First, we load all the packages we'll need."
      ]
    },
    {
      "cell_type": "code",
      "execution_count": null,
      "metadata": {
        "id": "5TKE1o5c_pPm"
      },
      "outputs": [],
      "source": [
        "import numpy as np\n",
        "import matplotlib\n",
        "import matplotlib.pyplot as plt\n",
        "%matplotlib inline\n",
        "from sklearn.metrics.pairwise import pairwise_kernels\n",
        "import sklearn.metrics.pairwise as pairwise\n",
        "import scipy\n",
        "from sklearn import svm, linear_model\n",
        "from sklearn.model_selection import GridSearchCV\n",
        "import time\n",
        "from datetime import timedelta\n",
        "from sklearn.metrics import accuracy_score"
      ]
    },
    {
      "cell_type": "markdown",
      "metadata": {
        "id": "L58cF4Cy_pPn"
      },
      "source": [
        "Again we download the data from the Tensorflow package, which you will need to install.  You can get the data from other sources as well.\n",
        "\n",
        "In the Tensorflow dataset, the training and test data are represented as arrays:\n",
        "\n",
        "     Xtr.shape = 60000 x 28 x 28\n",
        "     Xts.shape = 10000 x 28 x 28\n",
        "     \n",
        "The test data consists of `60000` images of size `28 x 28` pixels; the test data consists of `10000` images."
      ]
    },
    {
      "cell_type": "code",
      "execution_count": null,
      "metadata": {
        "id": "Pigfivuh_pPn",
        "colab": {
          "base_uri": "https://localhost:8080/"
        },
        "outputId": "02235aed-0b4d-4c36-99f7-f72971d08be3"
      },
      "outputs": [
        {
          "output_type": "stream",
          "name": "stdout",
          "text": [
            "Downloading data from https://storage.googleapis.com/tensorflow/tf-keras-datasets/mnist.npz\n",
            "11490434/11490434 [==============================] - 0s 0us/step\n",
            "Xtr shape: (60000, 28, 28)\n",
            "Xts shape: (10000, 28, 28)\n"
          ]
        }
      ],
      "source": [
        "import tensorflow as tf\n",
        "\n",
        "(Xtr_raw,ytr),(Xts_raw,yts) = tf.keras.datasets.mnist.load_data()\n",
        "\n",
        "print('Xtr shape: %s' % str(Xtr_raw.shape))\n",
        "print('Xts shape: %s' % str(Xts_raw.shape))\n",
        "\n",
        "ntr = Xtr_raw.shape[0]\n",
        "nts = Xts_raw.shape[0]\n",
        "nrow = Xtr_raw.shape[1]\n",
        "ncol = Xtr_raw.shape[2]"
      ]
    },
    {
      "cell_type": "markdown",
      "metadata": {
        "id": "BgE5TO4b_pPo"
      },
      "source": [
        "Each pixel value is from `[0,255]`.  For this lab, it will be convenient to recale the value to -1 to 1 and reshape it as a `ntr x npix` and `nts x npix`."
      ]
    },
    {
      "cell_type": "code",
      "source": [
        "npix = nrow*ncol\n",
        "Xtr = Xtr_raw.reshape((ntr,npix))\n",
        "print(Xtr[1,:])\n",
        "Xtr = (Xtr/255 - .5)\n",
        "print(Xtr[1,:])"
      ],
      "metadata": {
        "colab": {
          "base_uri": "https://localhost:8080/"
        },
        "id": "ahZI8kazNihC",
        "outputId": "c8444435-c183-48ca-82b7-a4d82269bb4a"
      },
      "execution_count": null,
      "outputs": [
        {
          "output_type": "stream",
          "name": "stdout",
          "text": [
            "[  0   0   0   0   0   0   0   0   0   0   0   0   0   0   0   0   0   0\n",
            "   0   0   0   0   0   0   0   0   0   0   0   0   0   0   0   0   0   0\n",
            "   0   0   0   0   0   0   0   0   0   0   0   0   0   0   0   0   0   0\n",
            "   0   0   0   0   0   0   0   0   0   0   0   0   0   0   0   0   0   0\n",
            "   0   0   0   0   0   0   0   0   0   0   0   0   0   0   0   0   0   0\n",
            "   0   0   0   0   0   0   0   0   0   0   0   0   0   0   0   0   0   0\n",
            "   0   0   0   0   0   0   0   0   0   0   0   0   0   0   0   0   0   0\n",
            "   0  51 159 253 159  50   0   0   0   0   0   0   0   0   0   0   0   0\n",
            "   0   0   0   0   0   0   0   0   0   0  48 238 252 252 252 237   0   0\n",
            "   0   0   0   0   0   0   0   0   0   0   0   0   0   0   0   0   0   0\n",
            "   0  54 227 253 252 239 233 252  57   6   0   0   0   0   0   0   0   0\n",
            "   0   0   0   0   0   0   0   0   0  10  60 224 252 253 252 202  84 252\n",
            " 253 122   0   0   0   0   0   0   0   0   0   0   0   0   0   0   0   0\n",
            "   0 163 252 252 252 253 252 252  96 189 253 167   0   0   0   0   0   0\n",
            "   0   0   0   0   0   0   0   0   0   0  51 238 253 253 190 114 253 228\n",
            "  47  79 255 168   0   0   0   0   0   0   0   0   0   0   0   0   0   0\n",
            "   0  48 238 252 252 179  12  75 121  21   0   0 253 243  50   0   0   0\n",
            "   0   0   0   0   0   0   0   0   0   0  38 165 253 233 208  84   0   0\n",
            "   0   0   0   0 253 252 165   0   0   0   0   0   0   0   0   0   0   0\n",
            "   0   7 178 252 240  71  19  28   0   0   0   0   0   0 253 252 195   0\n",
            "   0   0   0   0   0   0   0   0   0   0   0  57 252 252  63   0   0   0\n",
            "   0   0   0   0   0   0 253 252 195   0   0   0   0   0   0   0   0   0\n",
            "   0   0   0 198 253 190   0   0   0   0   0   0   0   0   0   0 255 253\n",
            " 196   0   0   0   0   0   0   0   0   0   0   0  76 246 252 112   0   0\n",
            "   0   0   0   0   0   0   0   0 253 252 148   0   0   0   0   0   0   0\n",
            "   0   0   0   0  85 252 230  25   0   0   0   0   0   0   0   0   7 135\n",
            " 253 186  12   0   0   0   0   0   0   0   0   0   0   0  85 252 223   0\n",
            "   0   0   0   0   0   0   0   7 131 252 225  71   0   0   0   0   0   0\n",
            "   0   0   0   0   0   0  85 252 145   0   0   0   0   0   0   0  48 165\n",
            " 252 173   0   0   0   0   0   0   0   0   0   0   0   0   0   0  86 253\n",
            " 225   0   0   0   0   0   0 114 238 253 162   0   0   0   0   0   0   0\n",
            "   0   0   0   0   0   0   0   0  85 252 249 146  48  29  85 178 225 253\n",
            " 223 167  56   0   0   0   0   0   0   0   0   0   0   0   0   0   0   0\n",
            "  85 252 252 252 229 215 252 252 252 196 130   0   0   0   0   0   0   0\n",
            "   0   0   0   0   0   0   0   0   0   0  28 199 252 252 253 252 252 233\n",
            " 145   0   0   0   0   0   0   0   0   0   0   0   0   0   0   0   0   0\n",
            "   0   0   0  25 128 252 253 252 141  37   0   0   0   0   0   0   0   0\n",
            "   0   0   0   0   0   0   0   0   0   0   0   0   0   0   0   0   0   0\n",
            "   0   0   0   0   0   0   0   0   0   0   0   0   0   0   0   0   0   0\n",
            "   0   0   0   0   0   0   0   0   0   0   0   0   0   0   0   0   0   0\n",
            "   0   0   0   0   0   0   0   0   0   0   0   0   0   0   0   0   0   0\n",
            "   0   0   0   0   0   0   0   0   0   0   0   0   0   0   0   0   0   0\n",
            "   0   0   0   0   0   0   0   0   0   0   0   0   0   0   0   0   0   0\n",
            "   0   0   0   0   0   0   0   0   0   0]\n",
            "[-0.5        -0.5        -0.5        -0.5        -0.5        -0.5\n",
            " -0.5        -0.5        -0.5        -0.5        -0.5        -0.5\n",
            " -0.5        -0.5        -0.5        -0.5        -0.5        -0.5\n",
            " -0.5        -0.5        -0.5        -0.5        -0.5        -0.5\n",
            " -0.5        -0.5        -0.5        -0.5        -0.5        -0.5\n",
            " -0.5        -0.5        -0.5        -0.5        -0.5        -0.5\n",
            " -0.5        -0.5        -0.5        -0.5        -0.5        -0.5\n",
            " -0.5        -0.5        -0.5        -0.5        -0.5        -0.5\n",
            " -0.5        -0.5        -0.5        -0.5        -0.5        -0.5\n",
            " -0.5        -0.5        -0.5        -0.5        -0.5        -0.5\n",
            " -0.5        -0.5        -0.5        -0.5        -0.5        -0.5\n",
            " -0.5        -0.5        -0.5        -0.5        -0.5        -0.5\n",
            " -0.5        -0.5        -0.5        -0.5        -0.5        -0.5\n",
            " -0.5        -0.5        -0.5        -0.5        -0.5        -0.5\n",
            " -0.5        -0.5        -0.5        -0.5        -0.5        -0.5\n",
            " -0.5        -0.5        -0.5        -0.5        -0.5        -0.5\n",
            " -0.5        -0.5        -0.5        -0.5        -0.5        -0.5\n",
            " -0.5        -0.5        -0.5        -0.5        -0.5        -0.5\n",
            " -0.5        -0.5        -0.5        -0.5        -0.5        -0.5\n",
            " -0.5        -0.5        -0.5        -0.5        -0.5        -0.5\n",
            " -0.5        -0.5        -0.5        -0.5        -0.5        -0.5\n",
            " -0.5        -0.3         0.12352941  0.49215686  0.12352941 -0.30392157\n",
            " -0.5        -0.5        -0.5        -0.5        -0.5        -0.5\n",
            " -0.5        -0.5        -0.5        -0.5        -0.5        -0.5\n",
            " -0.5        -0.5        -0.5        -0.5        -0.5        -0.5\n",
            " -0.5        -0.5        -0.5        -0.5        -0.31176471  0.43333333\n",
            "  0.48823529  0.48823529  0.48823529  0.42941176 -0.5        -0.5\n",
            " -0.5        -0.5        -0.5        -0.5        -0.5        -0.5\n",
            " -0.5        -0.5        -0.5        -0.5        -0.5        -0.5\n",
            " -0.5        -0.5        -0.5        -0.5        -0.5        -0.5\n",
            " -0.5        -0.28823529  0.39019608  0.49215686  0.48823529  0.4372549\n",
            "  0.41372549  0.48823529 -0.27647059 -0.47647059 -0.5        -0.5\n",
            " -0.5        -0.5        -0.5        -0.5        -0.5        -0.5\n",
            " -0.5        -0.5        -0.5        -0.5        -0.5        -0.5\n",
            " -0.5        -0.5        -0.5        -0.46078431 -0.26470588  0.37843137\n",
            "  0.48823529  0.49215686  0.48823529  0.29215686 -0.17058824  0.48823529\n",
            "  0.49215686 -0.02156863 -0.5        -0.5        -0.5        -0.5\n",
            " -0.5        -0.5        -0.5        -0.5        -0.5        -0.5\n",
            " -0.5        -0.5        -0.5        -0.5        -0.5        -0.5\n",
            " -0.5         0.13921569  0.48823529  0.48823529  0.48823529  0.49215686\n",
            "  0.48823529  0.48823529 -0.12352941  0.24117647  0.49215686  0.15490196\n",
            " -0.5        -0.5        -0.5        -0.5        -0.5        -0.5\n",
            " -0.5        -0.5        -0.5        -0.5        -0.5        -0.5\n",
            " -0.5        -0.5        -0.5        -0.5        -0.3         0.43333333\n",
            "  0.49215686  0.49215686  0.24509804 -0.05294118  0.49215686  0.39411765\n",
            " -0.31568627 -0.19019608  0.5         0.15882353 -0.5        -0.5\n",
            " -0.5        -0.5        -0.5        -0.5        -0.5        -0.5\n",
            " -0.5        -0.5        -0.5        -0.5        -0.5        -0.5\n",
            " -0.5        -0.31176471  0.43333333  0.48823529  0.48823529  0.20196078\n",
            " -0.45294118 -0.20588235 -0.0254902  -0.41764706 -0.5        -0.5\n",
            "  0.49215686  0.45294118 -0.30392157 -0.5        -0.5        -0.5\n",
            " -0.5        -0.5        -0.5        -0.5        -0.5        -0.5\n",
            " -0.5        -0.5        -0.5        -0.5        -0.35098039  0.14705882\n",
            "  0.49215686  0.41372549  0.31568627 -0.17058824 -0.5        -0.5\n",
            " -0.5        -0.5        -0.5        -0.5         0.49215686  0.48823529\n",
            "  0.14705882 -0.5        -0.5        -0.5        -0.5        -0.5\n",
            " -0.5        -0.5        -0.5        -0.5        -0.5        -0.5\n",
            " -0.5        -0.47254902  0.19803922  0.48823529  0.44117647 -0.22156863\n",
            " -0.4254902  -0.39019608 -0.5        -0.5        -0.5        -0.5\n",
            " -0.5        -0.5         0.49215686  0.48823529  0.26470588 -0.5\n",
            " -0.5        -0.5        -0.5        -0.5        -0.5        -0.5\n",
            " -0.5        -0.5        -0.5        -0.5        -0.5        -0.27647059\n",
            "  0.48823529  0.48823529 -0.25294118 -0.5        -0.5        -0.5\n",
            " -0.5        -0.5        -0.5        -0.5        -0.5        -0.5\n",
            "  0.49215686  0.48823529  0.26470588 -0.5        -0.5        -0.5\n",
            " -0.5        -0.5        -0.5        -0.5        -0.5        -0.5\n",
            " -0.5        -0.5        -0.5         0.27647059  0.49215686  0.24509804\n",
            " -0.5        -0.5        -0.5        -0.5        -0.5        -0.5\n",
            " -0.5        -0.5        -0.5        -0.5         0.5         0.49215686\n",
            "  0.26862745 -0.5        -0.5        -0.5        -0.5        -0.5\n",
            " -0.5        -0.5        -0.5        -0.5        -0.5        -0.5\n",
            " -0.20196078  0.46470588  0.48823529 -0.06078431 -0.5        -0.5\n",
            " -0.5        -0.5        -0.5        -0.5        -0.5        -0.5\n",
            " -0.5        -0.5         0.49215686  0.48823529  0.08039216 -0.5\n",
            " -0.5        -0.5        -0.5        -0.5        -0.5        -0.5\n",
            " -0.5        -0.5        -0.5        -0.5        -0.16666667  0.48823529\n",
            "  0.40196078 -0.40196078 -0.5        -0.5        -0.5        -0.5\n",
            " -0.5        -0.5        -0.5        -0.5        -0.47254902  0.02941176\n",
            "  0.49215686  0.22941176 -0.45294118 -0.5        -0.5        -0.5\n",
            " -0.5        -0.5        -0.5        -0.5        -0.5        -0.5\n",
            " -0.5        -0.5        -0.16666667  0.48823529  0.3745098  -0.5\n",
            " -0.5        -0.5        -0.5        -0.5        -0.5        -0.5\n",
            " -0.5        -0.47254902  0.01372549  0.48823529  0.38235294 -0.22156863\n",
            " -0.5        -0.5        -0.5        -0.5        -0.5        -0.5\n",
            " -0.5        -0.5        -0.5        -0.5        -0.5        -0.5\n",
            " -0.16666667  0.48823529  0.06862745 -0.5        -0.5        -0.5\n",
            " -0.5        -0.5        -0.5        -0.5        -0.31176471  0.14705882\n",
            "  0.48823529  0.17843137 -0.5        -0.5        -0.5        -0.5\n",
            " -0.5        -0.5        -0.5        -0.5        -0.5        -0.5\n",
            " -0.5        -0.5        -0.5        -0.5        -0.1627451   0.49215686\n",
            "  0.38235294 -0.5        -0.5        -0.5        -0.5        -0.5\n",
            " -0.5        -0.05294118  0.43333333  0.49215686  0.13529412 -0.5\n",
            " -0.5        -0.5        -0.5        -0.5        -0.5        -0.5\n",
            " -0.5        -0.5        -0.5        -0.5        -0.5        -0.5\n",
            " -0.5        -0.5        -0.16666667  0.48823529  0.47647059  0.07254902\n",
            " -0.31176471 -0.38627451 -0.16666667  0.19803922  0.38235294  0.49215686\n",
            "  0.3745098   0.15490196 -0.28039216 -0.5        -0.5        -0.5\n",
            " -0.5        -0.5        -0.5        -0.5        -0.5        -0.5\n",
            " -0.5        -0.5        -0.5        -0.5        -0.5        -0.5\n",
            " -0.16666667  0.48823529  0.48823529  0.48823529  0.39803922  0.34313725\n",
            "  0.48823529  0.48823529  0.48823529  0.26862745  0.00980392 -0.5\n",
            " -0.5        -0.5        -0.5        -0.5        -0.5        -0.5\n",
            " -0.5        -0.5        -0.5        -0.5        -0.5        -0.5\n",
            " -0.5        -0.5        -0.5        -0.5        -0.39019608  0.28039216\n",
            "  0.48823529  0.48823529  0.49215686  0.48823529  0.48823529  0.41372549\n",
            "  0.06862745 -0.5        -0.5        -0.5        -0.5        -0.5\n",
            " -0.5        -0.5        -0.5        -0.5        -0.5        -0.5\n",
            " -0.5        -0.5        -0.5        -0.5        -0.5        -0.5\n",
            " -0.5        -0.5        -0.5        -0.40196078  0.00196078  0.48823529\n",
            "  0.49215686  0.48823529  0.05294118 -0.35490196 -0.5        -0.5\n",
            " -0.5        -0.5        -0.5        -0.5        -0.5        -0.5\n",
            " -0.5        -0.5        -0.5        -0.5        -0.5        -0.5\n",
            " -0.5        -0.5        -0.5        -0.5        -0.5        -0.5\n",
            " -0.5        -0.5        -0.5        -0.5        -0.5        -0.5\n",
            " -0.5        -0.5        -0.5        -0.5        -0.5        -0.5\n",
            " -0.5        -0.5        -0.5        -0.5        -0.5        -0.5\n",
            " -0.5        -0.5        -0.5        -0.5        -0.5        -0.5\n",
            " -0.5        -0.5        -0.5        -0.5        -0.5        -0.5\n",
            " -0.5        -0.5        -0.5        -0.5        -0.5        -0.5\n",
            " -0.5        -0.5        -0.5        -0.5        -0.5        -0.5\n",
            " -0.5        -0.5        -0.5        -0.5        -0.5        -0.5\n",
            " -0.5        -0.5        -0.5        -0.5        -0.5        -0.5\n",
            " -0.5        -0.5        -0.5        -0.5        -0.5        -0.5\n",
            " -0.5        -0.5        -0.5        -0.5        -0.5        -0.5\n",
            " -0.5        -0.5        -0.5        -0.5        -0.5        -0.5\n",
            " -0.5        -0.5        -0.5        -0.5        -0.5        -0.5\n",
            " -0.5        -0.5        -0.5        -0.5        -0.5        -0.5\n",
            " -0.5        -0.5        -0.5        -0.5        -0.5        -0.5\n",
            " -0.5        -0.5        -0.5        -0.5        -0.5        -0.5\n",
            " -0.5        -0.5        -0.5        -0.5        -0.5        -0.5\n",
            " -0.5        -0.5        -0.5        -0.5       ]\n"
          ]
        }
      ]
    },
    {
      "cell_type": "code",
      "execution_count": null,
      "metadata": {
        "id": "QE-50PdU_pPo"
      },
      "outputs": [],
      "source": [
        "npix = nrow*ncol\n",
        "Xtr = (Xtr_raw/255 - 0.5)\n",
        "Xtr = Xtr.reshape((ntr,npix))\n",
        "\n",
        "Xts = (Xts_raw/255 - 0.5)\n",
        "Xts = Xts.reshape((nts,npix))"
      ]
    },
    {
      "cell_type": "code",
      "source": [
        "print(Xtr)"
      ],
      "metadata": {
        "colab": {
          "base_uri": "https://localhost:8080/"
        },
        "id": "LqDWXC9yN6JH",
        "outputId": "25b792bb-eb79-41e6-fa50-0ba7e6071e1d"
      },
      "execution_count": null,
      "outputs": [
        {
          "output_type": "stream",
          "name": "stdout",
          "text": [
            "[[-0.5 -0.5 -0.5 ... -0.5 -0.5 -0.5]\n",
            " [-0.5 -0.5 -0.5 ... -0.5 -0.5 -0.5]\n",
            " [-0.5 -0.5 -0.5 ... -0.5 -0.5 -0.5]\n",
            " ...\n",
            " [-0.5 -0.5 -0.5 ... -0.5 -0.5 -0.5]\n",
            " [-0.5 -0.5 -0.5 ... -0.5 -0.5 -0.5]\n",
            " [-0.5 -0.5 -0.5 ... -0.5 -0.5 -0.5]]\n"
          ]
        }
      ]
    },
    {
      "cell_type": "markdown",
      "metadata": {
        "id": "frhehbKs_pPo"
      },
      "source": [
        "For this lab we're only going to use a fraction of the MNIST data -- otherwise our models will take too much time and memory to run. Using only part of the training data will of course lead to worse results. Given enough computational resources and time, we would ideally be running on the full data set. The follow code creates a new test and train set, with 10000 examples for train and 5000 for test."
      ]
    },
    {
      "cell_type": "code",
      "execution_count": null,
      "metadata": {
        "id": "cUHbBwL1_pPp"
      },
      "outputs": [],
      "source": [
        "ntr1 = 10000\n",
        "nts1 = 5000\n",
        "Iperm = np.random.permutation(ntr1)\n",
        "Xtr1 = Xtr[Iperm[:ntr1],:]\n",
        "ytr1 = ytr[Iperm[:ntr1]]\n",
        "Iperm = np.random.permutation(nts1)\n",
        "Xts1 = Xts[Iperm[:nts1],:]\n",
        "yts1 = yts[Iperm[:nts1]]"
      ]
    },
    {
      "cell_type": "markdown",
      "metadata": {
        "id": "mlz6g-X8_pPq"
      },
      "source": [
        "## Problem set up and establishing a baseline"
      ]
    },
    {
      "cell_type": "markdown",
      "metadata": {
        "id": "T90pjHcr_pPq"
      },
      "source": [
        "To simplify the problem (and speed things up) we're also going to restrict to binary classification. In particular, let's try to design classifier a that separates the 8's from all other digits.\n",
        "\n",
        "Create binary 0/1 label vectors `ytr8` and `yts8` which are 1 wherever `ytr1` and `yts1` equal 8, and 0 everywhere else."
      ]
    },
    {
      "cell_type": "code",
      "execution_count": null,
      "metadata": {
        "id": "q6Flo-KS_pPq"
      },
      "outputs": [],
      "source": [
        "# TODO\n",
        "ytr8 = [int(ytr == 8) for ytr in ytr1]\n",
        "yts8 = [int(yts == 8) for yts in yts1]"
      ]
    },
    {
      "cell_type": "markdown",
      "metadata": {
        "id": "UdT2KGyj_pPr"
      },
      "source": [
        "Most of the digits in the test dataset aren't equal to 8. So if we simply guess 0 for every image in `Xts`, we might expect to get classification accuracy around 90%. Our goal should be to significantly beat this **baseline**.\n",
        "\n",
        "Formally, write a few lines of code to check what test error would be achieved by the all zeros classifier."
      ]
    },
    {
      "cell_type": "code",
      "execution_count": null,
      "metadata": {
        "id": "3JweYada_pPr",
        "colab": {
          "base_uri": "https://localhost:8080/"
        },
        "outputId": "c723a01e-2c68-4640-9926-3563affc5e03"
      },
      "outputs": [
        {
          "output_type": "stream",
          "name": "stdout",
          "text": [
            "Accuaracy = 0.902200\n"
          ]
        }
      ],
      "source": [
        "# TODO\n",
        "yts0 = [0 for yts in yts1]\n",
        "acc = accuracy_score(yts8,yts0)\n",
        "print('Accuaracy = {0:f}'.format(acc))"
      ]
    },
    {
      "cell_type": "markdown",
      "metadata": {
        "id": "oz_7u10V_pPr"
      },
      "source": [
        "As a second baseline, let's see how we do with standard (non-kernel) logistic regression. As in the MNIST demo, you can use `scikit-learn`'s built in function `linear_model.LogisticRegression` to fit the model and compute the accuracy. Use no regularization and the `lbfgs` solver. You should acheive an improvement to around 93-95%."
      ]
    },
    {
      "cell_type": "code",
      "execution_count": null,
      "metadata": {
        "id": "oocR_r9C_pPr",
        "colab": {
          "base_uri": "https://localhost:8080/"
        },
        "outputId": "0238e2b4-956b-4dce-8e9c-6f4c31f0919d"
      },
      "outputs": [
        {
          "output_type": "stream",
          "name": "stderr",
          "text": [
            "[Parallel(n_jobs=1)]: Using backend SequentialBackend with 1 concurrent workers.\n"
          ]
        },
        {
          "output_type": "stream",
          "name": "stdout",
          "text": [
            "Logistic Regression Accuaracy = 0.942000\n"
          ]
        },
        {
          "output_type": "stream",
          "name": "stderr",
          "text": [
            "[Parallel(n_jobs=1)]: Done   1 out of   1 | elapsed:  1.3min remaining:    0.0s\n",
            "[Parallel(n_jobs=1)]: Done   1 out of   1 | elapsed:  1.3min finished\n"
          ]
        }
      ],
      "source": [
        "# TODO\n",
        "logreg = linear_model.LogisticRegression(verbose=10, solver='lbfgs', multi_class='multinomial',max_iter=1000)\n",
        "logist = logreg.fit(Xtr1,ytr8)\n",
        "ypred = logist.predict(Xts1)\n",
        "acc = accuracy_score(yts8,ypred)\n",
        "print('Logistic Regression Accuaracy = {0:f}'.format(acc))"
      ]
    },
    {
      "cell_type": "markdown",
      "metadata": {
        "id": "aXuJVilo_pPr"
      },
      "source": [
        "## Kernel Logistic Regression\n",
        "\n",
        "To improve on this baseline performance, let's try using the logistic regression classifier with a *non-linear* kernel. Recall from class that any non-linear kernel similarity function $k(\\vec{w},\\vec{z})$ is equal to $\\phi(\\vec{w})^T\\phi(\\vec{z})$ for some feature transformation $\\phi$. However, we typically do not need to compute this feature tranformation explicitly: instead we can work directly with the kernel gram matrix $K \\in \\mathbb{R}^{n\\times n}$. Recall that $K_{i,j} = k(\\vec{x}_i,\\vec{x}_j)$ where $\\vec{x}_i$ is the $i^\\text{th}$ training data point.\n",
        "\n",
        "For this lab we will be using the radial basis function kernel. For a given scaling factor $\\gamma$ this kernel is defined as:\n",
        "$$\n",
        "k(\\vec{w},\\vec{z}) = e^{-\\gamma\\|\\vec{w}-\\vec{z}\\|_2^2}\n",
        "$$"
      ]
    },
    {
      "cell_type": "code",
      "execution_count": null,
      "metadata": {
        "id": "q8znIoWi_pPs"
      },
      "outputs": [],
      "source": [
        "def rbf_kernel(w,z,gamma):\n",
        "    d = w - z\n",
        "    return np.exp(-gamma*np.sum(d*d))"
      ]
    },
    {
      "cell_type": "markdown",
      "metadata": {
        "id": "1WFi15JF_pPs"
      },
      "source": [
        "Construct the kernel matrix `K1` for `Xtr1` with `gamma = .05`."
      ]
    },
    {
      "cell_type": "code",
      "execution_count": null,
      "metadata": {
        "id": "9PBzA-5__pPs",
        "colab": {
          "base_uri": "https://localhost:8080/"
        },
        "outputId": "ab713c10-8037-4c08-f1c4-3a37546c5eb5"
      },
      "outputs": [
        {
          "output_type": "stream",
          "name": "stdout",
          "text": [
            "[[1.00000000e+00 4.01887410e-02 3.43326152e-04 ... 4.87743171e-03\n",
            "  2.77660389e-03 6.15093077e-03]\n",
            " [4.01887410e-02 1.00000000e+00 9.58916778e-04 ... 4.18840690e-03\n",
            "  1.23075858e-03 2.52484919e-02]\n",
            " [3.43326152e-04 9.58916778e-04 1.00000000e+00 ... 6.40943609e-05\n",
            "  2.71354280e-03 4.56902577e-04]\n",
            " ...\n",
            " [4.87743171e-03 4.18840690e-03 6.40943609e-05 ... 1.00000000e+00\n",
            "  1.37587324e-03 1.06864310e-02]\n",
            " [2.77660389e-03 1.23075858e-03 2.71354280e-03 ... 1.37587324e-03\n",
            "  1.00000000e+00 9.12243144e-04]\n",
            " [6.15093077e-03 2.52484919e-02 4.56902577e-04 ... 1.06864310e-02\n",
            "  9.12243144e-04 1.00000000e+00]]\n"
          ]
        }
      ],
      "source": [
        "# TODO,\n",
        "gamma = .05\n",
        "temp = np.zeros((Xtr1.shape[0],Xtr1.shape[0]))\n",
        "K1 = np.array(temp)\n",
        "for i in range(Xtr1.shape[0]):\n",
        "  for j in range(i):\n",
        "    K1[i,j] = rbf_kernel(Xtr1[i,:],Xtr1[j,:],gamma)\n",
        "    K1[j,i] = K1[i,j]\n",
        "K1 = np.identity(Xtr1.shape[0])+K1\n",
        "print(K1)"
      ]
    },
    {
      "cell_type": "markdown",
      "metadata": {
        "id": "wB_X-JOR_pPs"
      },
      "source": [
        "If you used a for loop (which is fine) your code might take several minutes to run! Part of the issue is that Python won't know to properly parallize your for loop. For this reason, when constructing kernel matrices it is often faster to us a built-in, carefully optimized function with explicit parallelization. Scikit learn provides such a function through their `metrics` library.\n",
        "\n",
        "Referring to the documentation here\n",
        "https://scikit-learn.org/stable/modules/metrics.html#metrics, use this built in function to recreate the same kernel matrix you did above. Store the result at `K`."
      ]
    },
    {
      "cell_type": "code",
      "execution_count": null,
      "metadata": {
        "id": "Nhd-xFsn_pPt",
        "colab": {
          "base_uri": "https://localhost:8080/"
        },
        "outputId": "9e24b39e-fbc6-4598-e2a7-9dfd61083959"
      },
      "outputs": [
        {
          "output_type": "stream",
          "name": "stdout",
          "text": [
            "[[1.00000000e+00 4.01887410e-02 3.43326152e-04 ... 4.87743171e-03\n",
            "  2.77660389e-03 6.15093077e-03]\n",
            " [4.01887410e-02 1.00000000e+00 9.58916778e-04 ... 4.18840690e-03\n",
            "  1.23075858e-03 2.52484919e-02]\n",
            " [3.43326152e-04 9.58916778e-04 1.00000000e+00 ... 6.40943609e-05\n",
            "  2.71354280e-03 4.56902577e-04]\n",
            " ...\n",
            " [4.87743171e-03 4.18840690e-03 6.40943609e-05 ... 1.00000000e+00\n",
            "  1.37587324e-03 1.06864310e-02]\n",
            " [2.77660389e-03 1.23075858e-03 2.71354280e-03 ... 1.37587324e-03\n",
            "  1.00000000e+00 9.12243144e-04]\n",
            " [6.15093077e-03 2.52484919e-02 4.56902577e-04 ... 1.06864310e-02\n",
            "  9.12243144e-04 1.00000000e+00]]\n"
          ]
        }
      ],
      "source": [
        "# TODO\n",
        "K = pairwise_kernels(Xtr1, metric = 'rbf',gamma = .05)\n",
        "print(K)"
      ]
    },
    {
      "cell_type": "markdown",
      "metadata": {
        "id": "CO9CnBbN_pPt"
      },
      "source": [
        "Check that you used the function correctly by writing code to confirm that `K = K1`, or at least that the two are equal up to very small differences (which could arise due to numerical precision issues). Try to do this **without a for loop** for full credit. You will get partial credit if you use a for loop."
      ]
    },
    {
      "cell_type": "code",
      "execution_count": null,
      "metadata": {
        "id": "SCOfrRRD_pPt",
        "colab": {
          "base_uri": "https://localhost:8080/"
        },
        "outputId": "02ff8eeb-37ab-4368-98ab-d26fdfe4dfcf"
      },
      "outputs": [
        {
          "output_type": "stream",
          "name": "stdout",
          "text": [
            "Are the two arrays are equal within the tolerance:  True\n"
          ]
        }
      ],
      "source": [
        "# TODO\n",
        "rtol = 1e-05\n",
        "atol = 1e-08\n",
        "print(\"Are the two arrays are equal within the tolerance: \", np.allclose(K1, K, rtol, atol))"
      ]
    },
    {
      "cell_type": "markdown",
      "metadata": {
        "id": "jrIT1xJL_pPt"
      },
      "source": [
        "When using a non-linear kernel, it is important to check that you have chosen reasonable parameters (in our case the only parameter is `gamma`). We typically do not want $k(\\vec{x}_i,\\vec{x}_j)$ to be either negligably small, or very large for all $i\\neq j$ in our data set, or we won't be able to learn anything. For the RBF kernel this means that, for any $\\vec{x}_i$ we don't want $k(\\vec{x}_i,\\vec{x}_j)$ very close to 1 (e.g. .9999) for all $j$, or very close to $0$ (e.g. 1e-8) for all $j$.\n",
        "\n",
        "Let's just check that we're in good shape for the first data vector $\\vec{x}_0$. Do so by printing out the 10 largest and 10 smallest values of $k(\\vec{x}_0,\\vec{x}_j)$ for $j\\neq 0$. Note that we always have $k(\\vec{x}_0,\\vec{x}_0) = 1$ for the RBF kernel."
      ]
    },
    {
      "cell_type": "code",
      "execution_count": null,
      "metadata": {
        "id": "z2yZ-vdt_pPt",
        "colab": {
          "base_uri": "https://localhost:8080/"
        },
        "outputId": "d8f624fe-8a38-4a14-f930-08ecc70cd284"
      },
      "outputs": [
        {
          "output_type": "stream",
          "name": "stdout",
          "text": [
            "Maximum similarities: \n",
            " [0.67226966 0.6724501  0.67378028 0.6799054  0.75903644 0.78187413\n",
            " 0.84119162 0.8424759  0.84727423 0.89295529]\n",
            "Minimum similarities: \n",
            " [2.45843754e-05 3.03996697e-05 3.14632697e-05 3.47787083e-05\n",
            " 3.59048209e-05 4.92451471e-05 5.07939954e-05 5.12365171e-05\n",
            " 5.15547700e-05 5.33418319e-05]\n"
          ]
        }
      ],
      "source": [
        "# TODO\n",
        "temp = np.sort(K[0,:])\n",
        "max = temp[-11:]\n",
        "max = max[:10]\n",
        "min = temp[:10]\n",
        "print('Maximum similarities: \\n', max)\n",
        "print('Minimum similarities: \\n', min)"
      ]
    },
    {
      "cell_type": "markdown",
      "metadata": {
        "id": "B0Vfxdfu_pPu"
      },
      "source": [
        "### Implementation\n",
        "Maybe surprisingly Scikit learn does not have an implementation for kernel logistic regression. So we have to implement our own!\n",
        "\n",
        "Write a function function `log_fit` that minimizes the $\\ell_2$-regularized logisitic regression loss:\n",
        "$$\n",
        "L(\\boldsymbol{\\alpha}) =\\sum_{i=1}^n (1-y_i)(\\phi(\\mathbf{x}_i)^T\\phi(\\mathbf{X})^T\\vec{\\alpha}) - \\log(h(\\phi(\\mathbf{x}_i)^T\\phi(\\mathbf{X})^T\\boldsymbol{\\alpha}) + \\lambda \\|\\phi(\\mathbf{X})^T\\boldsymbol{\\alpha}\\|_2^2.\n",
        "$$\n",
        "As input it takes an $n\\times n$ kernel matrix $K$ for the training data, an $n$ length vector `y` of binary class labels, and regularization parameter `lamb`.\n",
        "\n",
        "To implement your function you can either use your own implmentation of gradient descent or used a built in minimizer from `scipy.optimize.minimize`. I recommend the later approach: as we saw in the last lab, gradient descent can converge slowly for this objective."
      ]
    },
    {
      "cell_type": "code",
      "execution_count": null,
      "metadata": {
        "id": "jbG3rpY7_pPu"
      },
      "outputs": [],
      "source": [
        "# TODO\n",
        "def Leval_reg_linear_kernel(alpha,y,lamb,K):\n",
        "  h = scipy.special.expit(K@alpha)\n",
        "  Lr = np.sum((1-y)*(K@alpha) - np.log(h)) + lamb*(np.transpose(alpha))@K@alpha\n",
        "  Lgrad = K@(h-y) + 2*lamb*(K@alpha)\n",
        "  return Lr, Lgrad\n",
        "\n",
        "def log_fit(K,y,lamb,nit=1000):\n",
        "  alpha0 = np.zeros(Xtr1.shape[0])\n",
        "  f = lambda alpha: Leval_reg_linear_kernel(alpha,y,lamb, K)[0]\n",
        "  g = lambda alpha: Leval_reg_linear_kernel(alpha,y,lamb, K)[1]\n",
        "  res = scipy.optimize.minimize(f, alpha0, args=(), method='L-BFGS-B',jac=g, options={\"maxiter\":nit})\n",
        "  alpha = res.x\n",
        "  return alpha\n",
        "\n",
        "#    Function which minizes the regularized logistic regression loss for a given kernel matrix K and target vector y\n",
        "#    Return the optimal parameters alpha of the logisitic regression model."
      ]
    },
    {
      "cell_type": "markdown",
      "source": [
        "Use the `log_fit` function defined above to find parameters `alpha` for the kernel logistic regression model using `lamb = 0` and `K` as constructed above (with `gamma = .05`)."
      ],
      "metadata": {
        "id": "PC4MZYmXMAmY"
      }
    },
    {
      "cell_type": "code",
      "source": [
        "# TODO\n",
        "lamb=0\n",
        "ytr8 = np.array(ytr8)\n",
        "alpha = log_fit(K,ytr8,lamb)"
      ],
      "metadata": {
        "id": "bNW1cYbjMBwj"
      },
      "execution_count": null,
      "outputs": []
    },
    {
      "cell_type": "code",
      "source": [
        "print(alpha, yts1.shape)"
      ],
      "metadata": {
        "colab": {
          "base_uri": "https://localhost:8080/"
        },
        "id": "6X147aLWnYFJ",
        "outputId": "8bebc56d-c7e9-494b-9a75-808658484a57"
      },
      "execution_count": null,
      "outputs": [
        {
          "output_type": "stream",
          "name": "stdout",
          "text": [
            "[  2.56982859   2.49111889  -4.19803021 ... -22.29355185  -8.37963983\n",
            "   0.48648271] (5000,)\n"
          ]
        }
      ]
    },
    {
      "cell_type": "markdown",
      "metadata": {
        "id": "VZXI3kz2_pPu"
      },
      "source": [
        "Suppose we have a test dataset with $m$ examples $\\vec{w}_1,\\ldots, \\vec{w}_m$. Once we obtain a coefficient vector $\\alpha$, making predictions for any $\\vec{w}_j$ in the test set requires computing:\n",
        "$$\n",
        "{y}_{j} = \\sum_{i=1}^n \\alpha_i \\cdot k(\\vec{w}_{j}, \\vec{x}_i).\n",
        "$$\n",
        "where $\\vec{x}_1, \\ldots \\vec{x}_n$ are our training data vectors. We classify $\\vec{w}_{j}$ in class 0 if ${y}_{j} \\leq 0$ and in class 1 if ${y}_{j} > 0$.\n",
        "\n",
        "This computation can be rewritten in matrix form as follows:\n",
        "$$\n",
        "\\vec{y}_{test} = K_{test}\\vec{\\alpha},\n",
        "$$\n",
        "where $\\vec{y}_{text}$ is an $m$ length vector and $K_{test}$ is a $m\\times n$ matrix whose $(j,i)$ entry is equal to $k(\\vec{w}_{j}, \\vec{x}_i)$. We classify $\\vec{w}_{j}$ in class 0 if $\\vec{y}_{test}[j] \\leq 0$ and in class 1 if $\\vec{y}_{test}[j] > 0$.\n"
      ]
    },
    {
      "cell_type": "markdown",
      "metadata": {
        "id": "U6BhIPrH_pPv"
      },
      "source": [
        "Use the `pairwise_kernels` function to construct $K_{test}$. Then make predictions for the test set and evaluate the accuracy of our kernel logistic regression classifier. You should see a pretty substantial lift in accuracy to around $97\\%$"
      ]
    },
    {
      "cell_type": "code",
      "execution_count": null,
      "metadata": {
        "id": "KA6EwssY_pPv"
      },
      "outputs": [],
      "source": [
        "# TODO\n",
        "\n",
        "Ktest = pairwise_kernels(Xts1, Xtr1, metric = 'rbf',gamma = .05)"
      ]
    },
    {
      "cell_type": "code",
      "execution_count": null,
      "metadata": {
        "id": "GrAoBfvK_pPv",
        "colab": {
          "base_uri": "https://localhost:8080/"
        },
        "outputId": "9e7651e1-e69a-4111-a0af-d04c447d7a02"
      },
      "outputs": [
        {
          "output_type": "stream",
          "name": "stdout",
          "text": [
            "Test accuracy = 0.979800\n"
          ]
        }
      ],
      "source": [
        "# TODO\n",
        "def test_ac(Kt,alph,y):\n",
        "  yhat = Kt@alph #(vector containing predicted 0,1 labels)\n",
        "  yhat = [int(yt > 0) for yt in yhat]\n",
        "  yhat = np.array(yhat)\n",
        "  acc = np.mean(yhat == y)\n",
        "  error = np.mean(yhat != y)\n",
        "  return acc,error\n",
        "acc,error = test_ac(Ktest,alpha,yts8)\n",
        "print(\"Test accuracy = %f\" % acc)"
      ]
    },
    {
      "cell_type": "markdown",
      "metadata": {
        "id": "l2SO0yhM_pPv"
      },
      "source": [
        "## Kernel Support Vector Machine"
      ]
    },
    {
      "cell_type": "markdown",
      "metadata": {
        "id": "o9x1jZnh_pPv"
      },
      "source": [
        "The goal of this lab is to compare Kernel Logistic Regression to Kernel Support Vector machines. Following `demo_mnist_svm.ipynb` create and train an SVM classifier on `Xtr1` and `ytr8` using an RBF kernel with `gamma = .05` (the same value we used for logistic regression aboe). Use margin parameter `C = 10`."
      ]
    },
    {
      "cell_type": "code",
      "execution_count": null,
      "metadata": {
        "id": "7r-c_g2z_pPv",
        "colab": {
          "base_uri": "https://localhost:8080/"
        },
        "outputId": "216fe8db-c0d4-4e11-a354-91235d361f99"
      },
      "outputs": [
        {
          "output_type": "stream",
          "name": "stdout",
          "text": [
            "[LibSVM]"
          ]
        },
        {
          "output_type": "execute_result",
          "data": {
            "text/plain": [
              "SVC(C=10, gamma=0.05, verbose=10)"
            ]
          },
          "metadata": {},
          "execution_count": 24
        }
      ],
      "source": [
        "# TODO\n",
        "svcrbf = svm.SVC(probability=False,  kernel=\"rbf\", C=10, gamma=.05 ,verbose=10)\n",
        "svcrbf.fit(Xtr1,ytr8)"
      ]
    },
    {
      "cell_type": "markdown",
      "metadata": {
        "id": "8hcOkVNj_pPw"
      },
      "source": [
        "Calculate and print the accuracy of the SVM classifier. You should obtain a similar result as for logistic regression: something close to $97\\%$ accuracy."
      ]
    },
    {
      "cell_type": "code",
      "execution_count": null,
      "metadata": {
        "id": "o5nSyO3J_pPw",
        "colab": {
          "base_uri": "https://localhost:8080/"
        },
        "outputId": "e8fe95b0-d923-4ccb-995d-266e8b2ce0fb"
      },
      "outputs": [
        {
          "output_type": "stream",
          "name": "stdout",
          "text": [
            "Test accuracy = 0.980200\n"
          ]
        }
      ],
      "source": [
        "# TODO\n",
        "\n",
        "ysvm = svcrbf.predict(Xts1) #(vector containing predicted 0,1 labels)\n",
        "acc = np.mean(ysvm == yts8)\n",
        "print(\"Test accuracy = %f\" % acc)"
      ]
    },
    {
      "cell_type": "markdown",
      "metadata": {
        "id": "WWp9NlMa_pPw"
      },
      "source": [
        "## The Showdown\n",
        "\n",
        "Both SVM classifiers and kernel logisitic regression require tuning parameters to obtain the best possible result. In our setting we will stick with an RBF kernel (although this could be tuned). So we only consider tuning the kernel width parameter `gamma`, as well as the regularization parameter `lamb` for logistic regression, and the margin parameter `C` for SVM. We will choose parameters using for-loops and train-test cross validation."
      ]
    },
    {
      "cell_type": "markdown",
      "metadata": {
        "id": "ia44LYbc_pPw"
      },
      "source": [
        "Train a logistic regression classifier with **all combinations** of the parameters included below in vectors `gamma` and `lamb`. For each setting of parameters, compute and print:\n",
        "* the test error obtained\n",
        "* the total runtime of classification in seconds (including training time and prediction time)\n",
        "\n",
        "For computing runtime you might want to use the `time()` function from the `time` library, which we already imported ealier."
      ]
    },
    {
      "cell_type": "code",
      "execution_count": null,
      "metadata": {
        "id": "0cHNr0Kw_pPw",
        "colab": {
          "base_uri": "https://localhost:8080/"
        },
        "outputId": "67c4ca00-4117-4e89-e0e1-819f3b2e9e77"
      },
      "outputs": [
        {
          "metadata": {
            "tags": null
          },
          "name": "stdout",
          "output_type": "stream",
          "text": [
            "Test accuracy for lamb = 0.000000', gamma = '0.100000' is '0.963200'\n",
            "Test error for lamb = 0.000000', gamma = '0.100000' is '0.036800'\n",
            "Time taken for this iteration: 0:00:20\n",
            "Test accuracy for lamb = 0.000001', gamma = '0.100000' is '0.965800'\n",
            "Test error for lamb = 0.000001', gamma = '0.100000' is '0.034200'\n",
            "Time taken for this iteration: 0:00:53\n",
            "Test accuracy for lamb = 0.000100', gamma = '0.100000' is '0.965200'\n",
            "Test error for lamb = 0.000100', gamma = '0.100000' is '0.034800'\n",
            "Time taken for this iteration: 0:01:17\n",
            "Test accuracy for lamb = 0.010000', gamma = '0.100000' is '0.962800'\n",
            "Test error for lamb = 0.010000', gamma = '0.100000' is '0.037200'\n",
            "Time taken for this iteration: 0:01:20\n",
            "Test accuracy for lamb = 0.000000', gamma = '0.050000' is '0.979800'\n",
            "Test error for lamb = 0.000000', gamma = '0.050000' is '0.020200'\n",
            "Time taken for this iteration: 0:00:37\n",
            "Test accuracy for lamb = 0.000001', gamma = '0.050000' is '0.979800'\n",
            "Test error for lamb = 0.000001', gamma = '0.050000' is '0.020200'\n",
            "Time taken for this iteration: 0:02:51\n",
            "Test accuracy for lamb = 0.000100', gamma = '0.050000' is '0.978000'\n",
            "Test error for lamb = 0.000100', gamma = '0.050000' is '0.022000'\n",
            "Time taken for this iteration: 0:06:02\n",
            "Test accuracy for lamb = 0.010000', gamma = '0.050000' is '0.974200'\n",
            "Test error for lamb = 0.010000', gamma = '0.050000' is '0.025800'\n",
            "Time taken for this iteration: 0:04:52\n"
          ]
        },
        {
          "metadata": {
            "tags": null
          },
          "name": "stderr",
          "output_type": "stream",
          "text": [
            "/usr/local/lib/python3.7/dist-packages/ipykernel_launcher.py:4: RuntimeWarning: divide by zero encountered in log\n",
            "  after removing the cwd from sys.path.\n"
          ]
        },
        {
          "metadata": {
            "tags": null
          },
          "name": "stdout",
          "output_type": "stream",
          "text": [
            "Test accuracy for lamb = 0.000000', gamma = '0.020000' is '0.981400'\n",
            "Test error for lamb = 0.000000', gamma = '0.020000' is '0.018600'\n",
            "Time taken for this iteration: 0:03:35\n",
            "Test accuracy for lamb = 0.000001', gamma = '0.020000' is '0.984800'\n",
            "Test error for lamb = 0.000001', gamma = '0.020000' is '0.015200'\n",
            "Time taken for this iteration: 0:12:50\n",
            "Test accuracy for lamb = 0.000100', gamma = '0.020000' is '0.984200'\n",
            "Test error for lamb = 0.000100', gamma = '0.020000' is '0.015800'\n",
            "Time taken for this iteration: 0:12:51\n",
            "Test accuracy for lamb = 0.010000', gamma = '0.020000' is '0.982200'\n",
            "Test error for lamb = 0.010000', gamma = '0.020000' is '0.017800'\n",
            "Time taken for this iteration: 0:12:39\n"
          ]
        },
        {
          "metadata": {
            "tags": null
          },
          "name": "stderr",
          "output_type": "stream",
          "text": [
            "/usr/local/lib/python3.7/dist-packages/ipykernel_launcher.py:4: RuntimeWarning: divide by zero encountered in log\n",
            "  after removing the cwd from sys.path.\n"
          ]
        },
        {
          "output_type": "stream",
          "name": "stdout",
          "text": [
            "Test accuracy for lamb = 0.000000', gamma = '0.010000' is '0.977800'\n",
            "Test error for lamb = 0.000000', gamma = '0.010000' is '0.022200'\n",
            "Time taken for this iteration: 0:12:47\n",
            "Test accuracy for lamb = 0.000001', gamma = '0.010000' is '0.981600'\n",
            "Test error for lamb = 0.000001', gamma = '0.010000' is '0.018400'\n",
            "Time taken for this iteration: 0:13:20\n",
            "Test accuracy for lamb = 0.000100', gamma = '0.010000' is '0.982800'\n",
            "Test error for lamb = 0.000100', gamma = '0.010000' is '0.017200'\n",
            "Time taken for this iteration: 0:12:41\n",
            "Test accuracy for lamb = 0.010000', gamma = '0.010000' is '0.980400'\n",
            "Test error for lamb = 0.010000', gamma = '0.010000' is '0.019600'\n",
            "Time taken for this iteration: 0:12:46\n",
            "Test accuracy for lamb = 0.000000', gamma = '0.005000' is '0.976800'\n",
            "Test error for lamb = 0.000000', gamma = '0.005000' is '0.023200'\n",
            "Time taken for this iteration: 0:13:17\n",
            "Test accuracy for lamb = 0.000001', gamma = '0.005000' is '0.976000'\n",
            "Test error for lamb = 0.000001', gamma = '0.005000' is '0.024000'\n",
            "Time taken for this iteration: 0:13:15\n",
            "Test accuracy for lamb = 0.000100', gamma = '0.005000' is '0.976000'\n",
            "Test error for lamb = 0.000100', gamma = '0.005000' is '0.024000'\n",
            "Time taken for this iteration: 0:13:01\n",
            "Test accuracy for lamb = 0.010000', gamma = '0.005000' is '0.974600'\n",
            "Test error for lamb = 0.010000', gamma = '0.005000' is '0.025400'\n",
            "Time taken for this iteration: 0:13:04\n",
            "At gamma = 0.020000 and lamb = 0.000001 with accuracy = 0.984800 minimum test error = 0.015200 is obtained\n",
            "Total time taken: 2:45:05\n"
          ]
        }
      ],
      "source": [
        "gamma = [.1, .05,.02,.01,.005]\n",
        "lamb = [0,1e-6,1e-4,1e-2]\n",
        "minerror = float(\"inf\")\n",
        "opt_gamma = gamma[0]\n",
        "opt_lamb = lamb[0]\n",
        "tot_time = 0\n",
        "\n",
        "# TODO\n",
        "for gam in gamma:\n",
        "  begin = time.time()\n",
        "  K = pairwise_kernels(Xtr1, metric = 'rbf',gamma = gam)\n",
        "  Ktest = pairwise_kernels(Xts1, Xtr1, metric = 'rbf',gamma = gam)\n",
        "  finish = time.time()\n",
        "  timedif = finish-begin\n",
        "  for lam in lamb:\n",
        "    start = time.time()\n",
        "    alpha = log_fit(K,ytr8,lam)\n",
        "    acc,error = test_ac(Ktest,alpha,yts8)\n",
        "    if(error<minerror):\n",
        "      minerror = error\n",
        "      opt_gamma = gam\n",
        "      opt_lamb = lam\n",
        "      opt_acc = acc\n",
        "    print(\"Test accuracy for lamb = %f', gamma = '%f' is '%f'\" % (lam,gam,acc))\n",
        "    print(\"Test error for lamb = %f', gamma = '%f' is '%f'\" % (lam,gam,error))\n",
        "    end = time.time()\n",
        "    duration = end-start\n",
        "    tot_time += duration\n",
        "    print(\"Time taken for this iteration: \"+str(timedelta(seconds = int(round(duration)))))\n",
        "  tot_time += timedif\n",
        "\n",
        "print(\"At gamma = %f and lamb = %f with accuracy = %f minimum test error = %f is obtained\" %(opt_gamma,opt_lamb, opt_acc,minerror))\n",
        "print(\"Total time taken: \"+str(timedelta(seconds = int(round(tot_time)))))"
      ]
    },
    {
      "cell_type": "markdown",
      "source": [
        "At gamma = 0.020000 and lamb = 0.000001 with accuracy = 0.984800, minimum test error = 0.015200 is obtained. The kernel logistic regression is only slightly sensitive to changes in gamma and lambda. The test error is only slightly varying from one combination to the other combination of gamma and lambda."
      ],
      "metadata": {
        "id": "IvsyG2WIn88m"
      }
    },
    {
      "cell_type": "markdown",
      "source": [],
      "metadata": {
        "id": "lTrJst-on6PO"
      }
    },
    {
      "cell_type": "markdown",
      "metadata": {
        "id": "NkcP20AM_pPw"
      },
      "source": [
        "TODO: What was the best test error achieved, and what setting of parameters achieved this error? Was the kernel logistic regression classifier more sensitive to changes in `gamma` or `lamb`? Discuss in 1-3 short sentences below."
      ]
    },
    {
      "cell_type": "markdown",
      "metadata": {
        "id": "LHxF0MXm_pPw"
      },
      "source": [
        "Now let's do the same thing for the kernel Support Vector Classifier. Train an SVM classifier with **all combinations** of the parameters included below in vectors `gamma` and `C`. For each setting of parameters, compute:\n",
        "* the test error obtained\n",
        "* the total runtime of classification in seconds (including training time and prediction time)"
      ]
    },
    {
      "cell_type": "code",
      "execution_count": null,
      "metadata": {
        "id": "FkPkZGIY_pPx",
        "colab": {
          "base_uri": "https://localhost:8080/"
        },
        "outputId": "99e1003e-2ff4-47da-ec41-ff93ea3dd8dd"
      },
      "outputs": [
        {
          "output_type": "stream",
          "name": "stdout",
          "text": [
            "[LibSVM]Test error for C = 0.010000', gamma = '0.100000' is '0.019800'\n",
            "Time taken for this iteration: 0:00:40\n",
            "[LibSVM]Test error for C = 0.100000', gamma = '0.100000' is '0.019800'\n",
            "Time taken for this iteration: 0:00:40\n",
            "[LibSVM]Test error for C = 1.000000', gamma = '0.100000' is '0.019800'\n",
            "Time taken for this iteration: 0:00:39\n",
            "[LibSVM]Test error for C = 10.000000', gamma = '0.100000' is '0.019800'\n",
            "Time taken for this iteration: 0:00:39\n",
            "[LibSVM]Test error for C = 0.010000', gamma = '0.050000' is '0.019800'\n",
            "Time taken for this iteration: 0:00:39\n",
            "[LibSVM]Test error for C = 0.100000', gamma = '0.050000' is '0.019800'\n",
            "Time taken for this iteration: 0:00:39\n",
            "[LibSVM]Test error for C = 1.000000', gamma = '0.050000' is '0.019800'\n",
            "Time taken for this iteration: 0:00:39\n",
            "[LibSVM]Test error for C = 10.000000', gamma = '0.050000' is '0.019800'\n",
            "Time taken for this iteration: 0:00:39\n",
            "[LibSVM]Test error for C = 0.010000', gamma = '0.020000' is '0.019800'\n",
            "Time taken for this iteration: 0:00:40\n",
            "[LibSVM]Test error for C = 0.100000', gamma = '0.020000' is '0.019800'\n",
            "Time taken for this iteration: 0:00:38\n",
            "[LibSVM]Test error for C = 1.000000', gamma = '0.020000' is '0.019800'\n",
            "Time taken for this iteration: 0:00:39\n",
            "[LibSVM]Test error for C = 10.000000', gamma = '0.020000' is '0.019800'\n",
            "Time taken for this iteration: 0:00:39\n",
            "[LibSVM]Test error for C = 0.010000', gamma = '0.010000' is '0.019800'\n",
            "Time taken for this iteration: 0:00:39\n",
            "[LibSVM]Test error for C = 0.100000', gamma = '0.010000' is '0.019800'\n",
            "Time taken for this iteration: 0:00:39\n",
            "[LibSVM]Test error for C = 1.000000', gamma = '0.010000' is '0.019800'\n",
            "Time taken for this iteration: 0:00:39\n",
            "[LibSVM]Test error for C = 10.000000', gamma = '0.010000' is '0.019800'\n",
            "Time taken for this iteration: 0:00:39\n",
            "[LibSVM]Test error for C = 0.010000', gamma = '0.005000' is '0.019800'\n",
            "Time taken for this iteration: 0:00:39\n",
            "[LibSVM]Test error for C = 0.100000', gamma = '0.005000' is '0.019800'\n",
            "Time taken for this iteration: 0:00:38\n",
            "[LibSVM]Test error for C = 1.000000', gamma = '0.005000' is '0.019800'\n",
            "Time taken for this iteration: 0:00:39\n",
            "[LibSVM]Test error for C = 10.000000', gamma = '0.005000' is '0.019800'\n",
            "Time taken for this iteration: 0:00:39\n",
            "At gamma = 0.100000 and C = 0.010000 with accuracy = 0.980200 minimum test error = 0.019800 is obtained\n",
            "Total time taken: 0:13:00\n"
          ]
        }
      ],
      "source": [
        "gamma = [.1, .05,.02,.01,.005]\n",
        "C = [.01,.1,1,10]\n",
        "minerror = float(\"inf\")\n",
        "opt_gamma = gamma[0]\n",
        "opt_c = C[0]\n",
        "tot_time = 0\n",
        "# TODO\n",
        "for gam in gamma:\n",
        "  for c in C:\n",
        "    start = time.time()\n",
        "    svcrbf = svm.SVC(probability=False,  kernel=\"rbf\", C=10, gamma=.05 ,verbose=10)\n",
        "    svcrbf.fit(Xtr1,ytr8)\n",
        "    ysvm = svcrbf.predict(Xts1) #(vector containing predicted 0,1 labels)\n",
        "    acc = np.mean(ysvm == yts8)\n",
        "    error = np.mean(ysvm != yts8)\n",
        "    if(error<minerror):\n",
        "      minerror = error\n",
        "      opt_gamma = gam\n",
        "      opt_c = c\n",
        "      opt_acc = acc\n",
        "    print(\"Test error for C = %f', gamma = '%f' is '%f'\" % (c,gam,error))\n",
        "    end = time.time()\n",
        "    duration = end-start\n",
        "    tot_time += duration\n",
        "    print(\"Time taken for this iteration: \"+str(timedelta(seconds = int(round(duration)))))\n",
        "# TODO\n",
        "print(\"At gamma = %f and C = %f with accuracy = %f minimum test error = %f is obtained\" %(opt_gamma,opt_c, opt_acc,minerror))\n",
        "print(\"Total time taken: \"+str(timedelta(seconds = int(round(tot_time)))))"
      ]
    },
    {
      "cell_type": "markdown",
      "source": [
        "At gamma = 0.100000 and C = 0.010000 with accuracy = 0.980200, minimum test error = 0.019800 is obtained. In terms of accuracy, both Kernel logistic regression and SVM performed equally well. Their best accuracies are almost the same in both the cases. But SVM performs a lot better than logisitic regression when runtime is considered."
      ],
      "metadata": {
        "id": "1-cERvdbrHIM"
      }
    },
    {
      "cell_type": "markdown",
      "metadata": {
        "id": "UPI-k50w_pPx"
      },
      "source": [
        "TODO: What was the best test error achieved, and what setting of parameters achieved this error? Which performed better in terms of accuracy, the SVM or logisitic regression classifier? How about in terms of runtime?"
      ]
    },
    {
      "cell_type": "markdown",
      "metadata": {
        "id": "wec-DXhg_pPx"
      },
      "source": [
        "**NOTE:** For `sklearns`'s built in classifiers, including svm.SVC, there is a function called `GridSearchCV` which can automatically perform hyperparamater tuning for you. The main advantage of the method (as opposed to writing for-loops) is that it supports parallelization, so it can fit with different parameters at the same time. The function also supports automatic $k$-fold cross-validation (instead of simple train/test split).\n",
        "\n",
        "You might be interested in using this function in the future. If so, please check out the tutorial in the following lab from previous year: https://github.com/sdrangan/introml/blob/master/unit08_svm/lab_emnist_partial.ipynb."
      ]
    }
  ],
  "metadata": {
    "anaconda-cloud": {},
    "kernelspec": {
      "display_name": "Python 3",
      "language": "python",
      "name": "python3"
    },
    "language_info": {
      "codemirror_mode": {
        "name": "ipython",
        "version": 3
      },
      "file_extension": ".py",
      "mimetype": "text/x-python",
      "name": "python",
      "nbconvert_exporter": "python",
      "pygments_lexer": "ipython3",
      "version": "3.7.4"
    },
    "colab": {
      "provenance": [],
      "include_colab_link": true
    }
  },
  "nbformat": 4,
  "nbformat_minor": 0
}