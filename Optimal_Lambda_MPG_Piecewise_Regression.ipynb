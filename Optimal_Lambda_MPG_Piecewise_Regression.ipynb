{
  "nbformat": 4,
  "nbformat_minor": 0,
  "metadata": {
    "colab": {
      "provenance": [],
      "collapsed_sections": [],
      "authorship_tag": "ABX9TyPMZ87Fi/jPNCyZjcXXtZba",
      "include_colab_link": true
    },
    "kernelspec": {
      "name": "python3",
      "display_name": "Python 3"
    },
    "language_info": {
      "name": "python"
    }
  },
  "cells": [
    {
      "cell_type": "markdown",
      "metadata": {
        "id": "view-in-github",
        "colab_type": "text"
      },
      "source": [
        "<a href=\"https://colab.research.google.com/github/pragnavi/Machine-Learning/blob/master/Optimal_Lambda_MPG_Piecewise_Regression.ipynb\" target=\"_parent\"><img src=\"https://colab.research.google.com/assets/colab-badge.svg\" alt=\"Open In Colab\"/></a>"
      ]
    },
    {
      "cell_type": "markdown",
      "source": [
        "**Importing Libraries**"
      ],
      "metadata": {
        "id": "PcaQGXAFrVW7"
      }
    },
    {
      "cell_type": "code",
      "execution_count": 146,
      "metadata": {
        "id": "lxVtdiTRXyUg"
      },
      "outputs": [],
      "source": [
        "import pandas as pd\n",
        "import numpy as np\n",
        "import matplotlib\n",
        "import matplotlib.pyplot as plt\n",
        "%matplotlib inline"
      ]
    },
    {
      "cell_type": "markdown",
      "source": [
        "**Importing Data**"
      ],
      "metadata": {
        "id": "-bxoY4yzs0m_"
      }
    },
    {
      "cell_type": "code",
      "source": [
        "names = ['mpg', 'cylinders','displacement', 'horsepower', \n",
        "         'weight', 'acceleration', 'model year', 'origin', 'car name']\n",
        "\n",
        "df = pd.read_csv('https://archive.ics.uci.edu/ml/machine-learning-databases/auto-mpg/auto-mpg.data',\n",
        "                 header=None,delim_whitespace=True,names=names,na_values='?')\n",
        "df = df.dropna()\n",
        "df = df.sort_values(by=['horsepower'])"
      ],
      "metadata": {
        "id": "ojZZr7_lsz-u"
      },
      "execution_count": 147,
      "outputs": []
    },
    {
      "cell_type": "markdown",
      "source": [
        "**Transforming Input Data**\n",
        "\n",
        "Transform the input data to form a data matrix X with multiple columns."
      ],
      "metadata": {
        "id": "6bxDeATptF8c"
      }
    },
    {
      "cell_type": "code",
      "source": [
        "X = df['horsepower'].values\n",
        "y = df['mpg'].values\n",
        "Lambda = np.arange(np.min(X), np.max(X), .1)\n",
        "Lambda = np.around(L, decimals = 2)\n",
        "lambda_opt = np.min(X)\n",
        "minloss = float(\"inf\")\n",
        "nsamp = X.shape[0]\n",
        "X = X.reshape([nsamp,1])\n",
        "\n",
        "zeros = np.zeros((nsamp,1))\n",
        "ones = np.ones((nsamp,1))\n",
        "X_orig = X\n",
        "X_mod = np.hstack((ones,X_orig))\n",
        "X = np.hstack((X_mod,zeros))"
      ],
      "metadata": {
        "id": "V3nhk63AtFrL"
      },
      "execution_count": 148,
      "outputs": []
    },
    {
      "cell_type": "markdown",
      "source": [
        "**Finding Lambda for Optimal Fit**\n",
        "\n",
        "The ouput/prediction function is defined on the values of xi<λ≤xi (i ranging from 1 to n-sample size of the predictor column). Thus, the possible value of λ that gives the optimal fit lies between the minimum value of the predictor column and the maximum value of the predictor column."
      ],
      "metadata": {
        "id": "F61VP0se_0j8"
      }
    },
    {
      "cell_type": "code",
      "source": [
        "for l in Lambda:\n",
        "  Xtemp = np.copy(X)\n",
        "  for row in Xtemp:\n",
        "    if(row[1]>=l):\n",
        "      row[2]=row[1]-l\n",
        "      row[1]=l\n",
        "  out = np.linalg.lstsq(Xtemp,y)\n",
        "  beta = out[0]\n",
        "  yp = Xtemp@beta\n",
        "  errs = y-yp\n",
        "  loss = np.sum(errs**2)\n",
        "  if loss<minloss:\n",
        "    minloss = loss\n",
        "    lambda_opt = l\n",
        "    ypred = yp"
      ],
      "metadata": {
        "colab": {
          "base_uri": "https://localhost:8080/"
        },
        "id": "R-Otbtbm_1OF",
        "outputId": "848e711a-593f-4aa3-c193-7cb45135e7ac"
      },
      "execution_count": 149,
      "outputs": [
        {
          "output_type": "stream",
          "name": "stderr",
          "text": [
            "/usr/local/lib/python3.7/dist-packages/ipykernel_launcher.py:7: FutureWarning: `rcond` parameter will change to the default of machine precision times ``max(M, N)`` where M and N are the input matrix dimensions.\n",
            "To use the future default and silence this warning we advise to pass `rcond=None`, to keep using the old, explicitly pass `rcond=-1`.\n",
            "  import sys\n"
          ]
        }
      ]
    },
    {
      "cell_type": "code",
      "source": [
        "print(\"Loss at optimal beta and lamda: \", minloss)\n",
        "print(\"The value of lambda that gives the optimal fit: \", lambda_opt)"
      ],
      "metadata": {
        "colab": {
          "base_uri": "https://localhost:8080/"
        },
        "id": "UH5sN1Jm8lGD",
        "outputId": "2fca8c77-1fe2-40b6-f96b-2b3880d3119e"
      },
      "execution_count": 150,
      "outputs": [
        {
          "output_type": "stream",
          "name": "stdout",
          "text": [
            "Loss at optimal beta and lamda:  7418.6508564538935\n",
            "The value of lambda that gives the optimal fit:  103.1\n"
          ]
        }
      ]
    },
    {
      "cell_type": "markdown",
      "source": [
        "**Plot - MPG vs Horsepower with Piecewise Regression Line (Optimal Lambda)**"
      ],
      "metadata": {
        "id": "OwR2k8Quvw32"
      }
    },
    {
      "cell_type": "code",
      "source": [
        "x = df['horsepower'].values\n",
        "\n",
        "plt.plot(x, y,'o')\n",
        "plt.plot(x, ypred,'-',linewidth=3)\n",
        "plt.xlabel('horsepower')\n",
        "plt.ylabel('mpg')\n",
        "plt.grid(True)"
      ],
      "metadata": {
        "colab": {
          "base_uri": "https://localhost:8080/",
          "height": 279
        },
        "id": "vH5j-YPCwjAA",
        "outputId": "1215a874-b902-4e7c-fc17-7854f611fcd4"
      },
      "execution_count": 151,
      "outputs": [
        {
          "output_type": "display_data",
          "data": {
            "text/plain": [
              "<Figure size 432x288 with 1 Axes>"
            ],
            "image/png": "[encoded data removed]"
          },
          "metadata": {
            "needs_background": "light"
          }
        }
      ]
    }
  ]
}