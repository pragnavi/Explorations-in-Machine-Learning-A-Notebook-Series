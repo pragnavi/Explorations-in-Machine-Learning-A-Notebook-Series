{
  "cells": [
    {
      "cell_type": "markdown",
      "metadata": {
        "id": "view-in-github",
        "colab_type": "text"
      },
      "source": [
        "<a href=\"https://colab.research.google.com/github/pragnavi/Machine-Learning/blob/master/pr2370_Q4_Insult_Classification.ipynb\" target=\"_parent\"><img src=\"https://colab.research.google.com/assets/colab-badge.svg\" alt=\"Open In Colab\"/></a>"
      ]
    },
    {
      "cell_type": "markdown",
      "metadata": {
        "id": "r9nTS_kCKR1i"
      },
      "source": [
        "# Insult Classification"
      ]
    },
    {
      "cell_type": "markdown",
      "metadata": {
        "id": "1RG6vlxWKR1p"
      },
      "source": [
        "In this exercise, we would like to filter out insulting comments on a web forum.\n",
        "\n",
        "To train our models, we have a list of historic comments with a judgement wether they're insulting or not."
      ]
    },
    {
      "cell_type": "code",
      "execution_count": null,
      "metadata": {
        "id": "MoR3yuzrKR1r"
      },
      "outputs": [],
      "source": [
        "from google.colab import drive\n",
        "import pandas as pd\n",
        "import numpy as np\n",
        "from sklearn.metrics import precision_score, accuracy_score, recall_score, f1_score, roc_auc_score"
      ]
    },
    {
      "cell_type": "code",
      "source": [
        "drive.mount('/content/drive')\n",
        "path_to_insults = '/content/drive/MyDrive/Colab Notebooks/data/'\n",
        "data = pd.read_csv(path_to_insults + 'train-utf8.csv')\n",
        "data = data.dropna()\n",
        "data.head()"
      ],
      "metadata": {
        "colab": {
          "base_uri": "https://localhost:8080/",
          "height": 221
        },
        "id": "r0qsYY4tEbJE",
        "outputId": "cab55798-58a9-459e-f0c4-fd2ac504f38c"
      },
      "execution_count": null,
      "outputs": [
        {
          "output_type": "stream",
          "name": "stdout",
          "text": [
            "Drive already mounted at /content/drive; to attempt to forcibly remount, call drive.mount(\"/content/drive\", force_remount=True).\n"
          ]
        },
        {
          "output_type": "execute_result",
          "data": {
            "text/plain": [
              "   Insult             Date                                            Comment\n",
              "0       1  20120618192155Z                                 You fuck your dad.\n",
              "1       0  20120528192215Z  i really don't understand your point.  It seem...\n",
              "4       0  20120619094753Z  Các bạn xuống đường biểu tình 2011 có ôn hoà k...\n",
              "5       0  20120620171226Z  @SDL OK, but I would hope they'd sign him to a...\n",
              "6       0  20120503012628Z                        Yeah and where are you now?"
            ],
            "text/html": [
              "\n",
              "  <div id=\"df-a7ad7f60-e029-4df3-936a-ab7e6102f557\">\n",
              "    <div class=\"colab-df-container\">\n",
              "      <div>\n",
              "<style scoped>\n",
              "    .dataframe tbody tr th:only-of-type {\n",
              "        vertical-align: middle;\n",
              "    }\n",
              "\n",
              "    .dataframe tbody tr th {\n",
              "        vertical-align: top;\n",
              "    }\n",
              "\n",
              "    .dataframe thead th {\n",
              "        text-align: right;\n",
              "    }\n",
              "</style>\n",
              "<table border=\"1\" class=\"dataframe\">\n",
              "  <thead>\n",
              "    <tr style=\"text-align: right;\">\n",
              "      <th></th>\n",
              "      <th>Insult</th>\n",
              "      <th>Date</th>\n",
              "      <th>Comment</th>\n",
              "    </tr>\n",
              "  </thead>\n",
              "  <tbody>\n",
              "    <tr>\n",
              "      <th>0</th>\n",
              "      <td>1</td>\n",
              "      <td>20120618192155Z</td>\n",
              "      <td>You fuck your dad.</td>\n",
              "    </tr>\n",
              "    <tr>\n",
              "      <th>1</th>\n",
              "      <td>0</td>\n",
              "      <td>20120528192215Z</td>\n",
              "      <td>i really don't understand your point.  It seem...</td>\n",
              "    </tr>\n",
              "    <tr>\n",
              "      <th>4</th>\n",
              "      <td>0</td>\n",
              "      <td>20120619094753Z</td>\n",
              "      <td>Các bạn xuống đường biểu tình 2011 có ôn hoà k...</td>\n",
              "    </tr>\n",
              "    <tr>\n",
              "      <th>5</th>\n",
              "      <td>0</td>\n",
              "      <td>20120620171226Z</td>\n",
              "      <td>@SDL OK, but I would hope they'd sign him to a...</td>\n",
              "    </tr>\n",
              "    <tr>\n",
              "      <th>6</th>\n",
              "      <td>0</td>\n",
              "      <td>20120503012628Z</td>\n",
              "      <td>Yeah and where are you now?</td>\n",
              "    </tr>\n",
              "  </tbody>\n",
              "</table>\n",
              "</div>\n",
              "      <button class=\"colab-df-convert\" onclick=\"convertToInteractive('df-a7ad7f60-e029-4df3-936a-ab7e6102f557')\"\n",
              "              title=\"Convert this dataframe to an interactive table.\"\n",
              "              style=\"display:none;\">\n",
              "        \n",
              "  <svg xmlns=\"http://www.w3.org/2000/svg\" height=\"24px\"viewBox=\"0 0 24 24\"\n",
              "       width=\"24px\">\n",
              "    <path d=\"M0 0h24v24H0V0z\" fill=\"none\"/>\n",
              "    <path d=\"M18.56 5.44l.94 2.06.94-2.06 2.06-.94-2.06-.94-.94-2.06-.94 2.06-2.06.94zm-11 1L8.5 8.5l.94-2.06 2.06-.94-2.06-.94L8.5 2.5l-.94 2.06-2.06.94zm10 10l.94 2.06.94-2.06 2.06-.94-2.06-.94-.94-2.06-.94 2.06-2.06.94z\"/><path d=\"M17.41 7.96l-1.37-1.37c-.4-.4-.92-.59-1.43-.59-.52 0-1.04.2-1.43.59L10.3 9.45l-7.72 7.72c-.78.78-.78 2.05 0 2.83L4 21.41c.39.39.9.59 1.41.59.51 0 1.02-.2 1.41-.59l7.78-7.78 2.81-2.81c.8-.78.8-2.07 0-2.86zM5.41 20L4 18.59l7.72-7.72 1.47 1.35L5.41 20z\"/>\n",
              "  </svg>\n",
              "      </button>\n",
              "      \n",
              "  <style>\n",
              "    .colab-df-container {\n",
              "      display:flex;\n",
              "      flex-wrap:wrap;\n",
              "      gap: 12px;\n",
              "    }\n",
              "\n",
              "    .colab-df-convert {\n",
              "      background-color: #E8F0FE;\n",
              "      border: none;\n",
              "      border-radius: 50%;\n",
              "      cursor: pointer;\n",
              "      display: none;\n",
              "      fill: #1967D2;\n",
              "      height: 32px;\n",
              "      padding: 0 0 0 0;\n",
              "      width: 32px;\n",
              "    }\n",
              "\n",
              "    .colab-df-convert:hover {\n",
              "      background-color: #E2EBFA;\n",
              "      box-shadow: 0px 1px 2px rgba(60, 64, 67, 0.3), 0px 1px 3px 1px rgba(60, 64, 67, 0.15);\n",
              "      fill: #174EA6;\n",
              "    }\n",
              "\n",
              "    [theme=dark] .colab-df-convert {\n",
              "      background-color: #3B4455;\n",
              "      fill: #D2E3FC;\n",
              "    }\n",
              "\n",
              "    [theme=dark] .colab-df-convert:hover {\n",
              "      background-color: #434B5C;\n",
              "      box-shadow: 0px 1px 3px 1px rgba(0, 0, 0, 0.15);\n",
              "      filter: drop-shadow(0px 1px 2px rgba(0, 0, 0, 0.3));\n",
              "      fill: #FFFFFF;\n",
              "    }\n",
              "  </style>\n",
              "\n",
              "      <script>\n",
              "        const buttonEl =\n",
              "          document.querySelector('#df-a7ad7f60-e029-4df3-936a-ab7e6102f557 button.colab-df-convert');\n",
              "        buttonEl.style.display =\n",
              "          google.colab.kernel.accessAllowed ? 'block' : 'none';\n",
              "\n",
              "        async function convertToInteractive(key) {\n",
              "          const element = document.querySelector('#df-a7ad7f60-e029-4df3-936a-ab7e6102f557');\n",
              "          const dataTable =\n",
              "            await google.colab.kernel.invokeFunction('convertToInteractive',\n",
              "                                                     [key], {});\n",
              "          if (!dataTable) return;\n",
              "\n",
              "          const docLinkHtml = 'Like what you see? Visit the ' +\n",
              "            '<a target=\"_blank\" href=https://colab.research.google.com/notebooks/data_table.ipynb>data table notebook</a>'\n",
              "            + ' to learn more about interactive tables.';\n",
              "          element.innerHTML = '';\n",
              "          dataTable['output_type'] = 'display_data';\n",
              "          await google.colab.output.renderOutput(dataTable, element);\n",
              "          const docLink = document.createElement('div');\n",
              "          docLink.innerHTML = docLinkHtml;\n",
              "          element.appendChild(docLink);\n",
              "        }\n",
              "      </script>\n",
              "    </div>\n",
              "  </div>\n",
              "  "
            ]
          },
          "metadata": {},
          "execution_count": 123
        }
      ]
    },
    {
      "cell_type": "code",
      "execution_count": null,
      "metadata": {
        "colab": {
          "base_uri": "https://localhost:8080/"
        },
        "id": "3XZnCeZYKR1x",
        "outputId": "ee73f178-625f-4c12-896c-920ab40a5c98"
      },
      "outputs": [
        {
          "output_type": "stream",
          "name": "stdout",
          "text": [
            "3229 comments, of which 964 insults (29%)\n"
          ]
        }
      ],
      "source": [
        "print (\"%d comments, of which %d insults (%d%%)\" % \\\n",
        "    (len(data), data.Insult.sum(), 100 * data.Insult.mean()))"
      ]
    },
    {
      "cell_type": "markdown",
      "metadata": {
        "id": "I0dElW4UKR1y"
      },
      "source": [
        "### Looking for known bad words (10 pts)"
      ]
    },
    {
      "cell_type": "markdown",
      "metadata": {
        "id": "hfK9g4k_KR1y"
      },
      "source": [
        "One way to do this, is to load Google's bad word list and flag comments that contain one or more words.\n",
        "\n",
        "- Load `google_badlist.txt` from `data/insults/`\n",
        "- Add a column to `data` with a flag (0 or 1) if the comment contains a bad word\n",
        "- Compute the accuracy of this method - does this look good?\n",
        "- What would a naive classifier's score be (i.e., always predicting 0 or 1)?\n",
        "- Also compute the precision, recall, F1 score and AUC score\n",
        "- What is your verdict?"
      ]
    },
    {
      "cell_type": "code",
      "execution_count": null,
      "metadata": {
        "id": "fvdyfOx-KR1z"
      },
      "outputs": [],
      "source": [
        "filename = path_to_insults + 'google_badlist.txt'\n",
        "filename\n",
        "bad_words = np.loadtxt(filename, delimiter='\\n', dtype = 'str')"
      ]
    },
    {
      "cell_type": "code",
      "execution_count": null,
      "metadata": {
        "collapsed": true,
        "id": "m0LO3TyBKR10",
        "colab": {
          "base_uri": "https://localhost:8080/",
          "height": 359
        },
        "outputId": "aa24b651-7d2a-41ef-c5e4-87637fe26f5c"
      },
      "outputs": [
        {
          "output_type": "execute_result",
          "data": {
            "text/plain": [
              "    Insult             Date  \\\n",
              "0        1  20120618192155Z   \n",
              "1        0  20120528192215Z   \n",
              "4        0  20120619094753Z   \n",
              "5        0  20120620171226Z   \n",
              "6        0  20120503012628Z   \n",
              "8        1  20120502173553Z   \n",
              "9        1  20120620160512Z   \n",
              "10       0  20120620015140Z   \n",
              "11       0  20120530044519Z   \n",
              "15       1  20120611090207Z   \n",
              "\n",
              "                                              Comment  Bad_Words  \n",
              "0                                  You fuck your dad.          1  \n",
              "1   i really don't understand your point.  It seem...          0  \n",
              "4   Các bạn xuống đường biểu tình 2011 có ôn hoà k...          0  \n",
              "5   @SDL OK, but I would hope they'd sign him to a...          0  \n",
              "6                         Yeah and where are you now?          0  \n",
              "8   Either you are fake or extremely stupid...mayb...          0  \n",
              "9   That you are an idiot who understands neither ...          0  \n",
              "10  @jdstorm dont wish him injury but it happened ...          0  \n",
              "11  Be careful,Jimbo.OG has a fork with your name ...          0  \n",
              "15  FOR SOME REASON U SOUND RETARDED. LOL. DAMN. W...          0  "
            ],
            "text/html": [
              "\n",
              "  <div id=\"df-d5514e2a-60ee-4de4-9bb0-524bea666764\">\n",
              "    <div class=\"colab-df-container\">\n",
              "      <div>\n",
              "<style scoped>\n",
              "    .dataframe tbody tr th:only-of-type {\n",
              "        vertical-align: middle;\n",
              "    }\n",
              "\n",
              "    .dataframe tbody tr th {\n",
              "        vertical-align: top;\n",
              "    }\n",
              "\n",
              "    .dataframe thead th {\n",
              "        text-align: right;\n",
              "    }\n",
              "</style>\n",
              "<table border=\"1\" class=\"dataframe\">\n",
              "  <thead>\n",
              "    <tr style=\"text-align: right;\">\n",
              "      <th></th>\n",
              "      <th>Insult</th>\n",
              "      <th>Date</th>\n",
              "      <th>Comment</th>\n",
              "      <th>Bad_Words</th>\n",
              "    </tr>\n",
              "  </thead>\n",
              "  <tbody>\n",
              "    <tr>\n",
              "      <th>0</th>\n",
              "      <td>1</td>\n",
              "      <td>20120618192155Z</td>\n",
              "      <td>You fuck your dad.</td>\n",
              "      <td>1</td>\n",
              "    </tr>\n",
              "    <tr>\n",
              "      <th>1</th>\n",
              "      <td>0</td>\n",
              "      <td>20120528192215Z</td>\n",
              "      <td>i really don't understand your point.  It seem...</td>\n",
              "      <td>0</td>\n",
              "    </tr>\n",
              "    <tr>\n",
              "      <th>4</th>\n",
              "      <td>0</td>\n",
              "      <td>20120619094753Z</td>\n",
              "      <td>Các bạn xuống đường biểu tình 2011 có ôn hoà k...</td>\n",
              "      <td>0</td>\n",
              "    </tr>\n",
              "    <tr>\n",
              "      <th>5</th>\n",
              "      <td>0</td>\n",
              "      <td>20120620171226Z</td>\n",
              "      <td>@SDL OK, but I would hope they'd sign him to a...</td>\n",
              "      <td>0</td>\n",
              "    </tr>\n",
              "    <tr>\n",
              "      <th>6</th>\n",
              "      <td>0</td>\n",
              "      <td>20120503012628Z</td>\n",
              "      <td>Yeah and where are you now?</td>\n",
              "      <td>0</td>\n",
              "    </tr>\n",
              "    <tr>\n",
              "      <th>8</th>\n",
              "      <td>1</td>\n",
              "      <td>20120502173553Z</td>\n",
              "      <td>Either you are fake or extremely stupid...mayb...</td>\n",
              "      <td>0</td>\n",
              "    </tr>\n",
              "    <tr>\n",
              "      <th>9</th>\n",
              "      <td>1</td>\n",
              "      <td>20120620160512Z</td>\n",
              "      <td>That you are an idiot who understands neither ...</td>\n",
              "      <td>0</td>\n",
              "    </tr>\n",
              "    <tr>\n",
              "      <th>10</th>\n",
              "      <td>0</td>\n",
              "      <td>20120620015140Z</td>\n",
              "      <td>@jdstorm dont wish him injury but it happened ...</td>\n",
              "      <td>0</td>\n",
              "    </tr>\n",
              "    <tr>\n",
              "      <th>11</th>\n",
              "      <td>0</td>\n",
              "      <td>20120530044519Z</td>\n",
              "      <td>Be careful,Jimbo.OG has a fork with your name ...</td>\n",
              "      <td>0</td>\n",
              "    </tr>\n",
              "    <tr>\n",
              "      <th>15</th>\n",
              "      <td>1</td>\n",
              "      <td>20120611090207Z</td>\n",
              "      <td>FOR SOME REASON U SOUND RETARDED. LOL. DAMN. W...</td>\n",
              "      <td>0</td>\n",
              "    </tr>\n",
              "  </tbody>\n",
              "</table>\n",
              "</div>\n",
              "      <button class=\"colab-df-convert\" onclick=\"convertToInteractive('df-d5514e2a-60ee-4de4-9bb0-524bea666764')\"\n",
              "              title=\"Convert this dataframe to an interactive table.\"\n",
              "              style=\"display:none;\">\n",
              "        \n",
              "  <svg xmlns=\"http://www.w3.org/2000/svg\" height=\"24px\"viewBox=\"0 0 24 24\"\n",
              "       width=\"24px\">\n",
              "    <path d=\"M0 0h24v24H0V0z\" fill=\"none\"/>\n",
              "    <path d=\"M18.56 5.44l.94 2.06.94-2.06 2.06-.94-2.06-.94-.94-2.06-.94 2.06-2.06.94zm-11 1L8.5 8.5l.94-2.06 2.06-.94-2.06-.94L8.5 2.5l-.94 2.06-2.06.94zm10 10l.94 2.06.94-2.06 2.06-.94-2.06-.94-.94-2.06-.94 2.06-2.06.94z\"/><path d=\"M17.41 7.96l-1.37-1.37c-.4-.4-.92-.59-1.43-.59-.52 0-1.04.2-1.43.59L10.3 9.45l-7.72 7.72c-.78.78-.78 2.05 0 2.83L4 21.41c.39.39.9.59 1.41.59.51 0 1.02-.2 1.41-.59l7.78-7.78 2.81-2.81c.8-.78.8-2.07 0-2.86zM5.41 20L4 18.59l7.72-7.72 1.47 1.35L5.41 20z\"/>\n",
              "  </svg>\n",
              "      </button>\n",
              "      \n",
              "  <style>\n",
              "    .colab-df-container {\n",
              "      display:flex;\n",
              "      flex-wrap:wrap;\n",
              "      gap: 12px;\n",
              "    }\n",
              "\n",
              "    .colab-df-convert {\n",
              "      background-color: #E8F0FE;\n",
              "      border: none;\n",
              "      border-radius: 50%;\n",
              "      cursor: pointer;\n",
              "      display: none;\n",
              "      fill: #1967D2;\n",
              "      height: 32px;\n",
              "      padding: 0 0 0 0;\n",
              "      width: 32px;\n",
              "    }\n",
              "\n",
              "    .colab-df-convert:hover {\n",
              "      background-color: #E2EBFA;\n",
              "      box-shadow: 0px 1px 2px rgba(60, 64, 67, 0.3), 0px 1px 3px 1px rgba(60, 64, 67, 0.15);\n",
              "      fill: #174EA6;\n",
              "    }\n",
              "\n",
              "    [theme=dark] .colab-df-convert {\n",
              "      background-color: #3B4455;\n",
              "      fill: #D2E3FC;\n",
              "    }\n",
              "\n",
              "    [theme=dark] .colab-df-convert:hover {\n",
              "      background-color: #434B5C;\n",
              "      box-shadow: 0px 1px 3px 1px rgba(0, 0, 0, 0.15);\n",
              "      filter: drop-shadow(0px 1px 2px rgba(0, 0, 0, 0.3));\n",
              "      fill: #FFFFFF;\n",
              "    }\n",
              "  </style>\n",
              "\n",
              "      <script>\n",
              "        const buttonEl =\n",
              "          document.querySelector('#df-d5514e2a-60ee-4de4-9bb0-524bea666764 button.colab-df-convert');\n",
              "        buttonEl.style.display =\n",
              "          google.colab.kernel.accessAllowed ? 'block' : 'none';\n",
              "\n",
              "        async function convertToInteractive(key) {\n",
              "          const element = document.querySelector('#df-d5514e2a-60ee-4de4-9bb0-524bea666764');\n",
              "          const dataTable =\n",
              "            await google.colab.kernel.invokeFunction('convertToInteractive',\n",
              "                                                     [key], {});\n",
              "          if (!dataTable) return;\n",
              "\n",
              "          const docLinkHtml = 'Like what you see? Visit the ' +\n",
              "            '<a target=\"_blank\" href=https://colab.research.google.com/notebooks/data_table.ipynb>data table notebook</a>'\n",
              "            + ' to learn more about interactive tables.';\n",
              "          element.innerHTML = '';\n",
              "          dataTable['output_type'] = 'display_data';\n",
              "          await google.colab.output.renderOutput(dataTable, element);\n",
              "          const docLink = document.createElement('div');\n",
              "          docLink.innerHTML = docLinkHtml;\n",
              "          element.appendChild(docLink);\n",
              "        }\n",
              "      </script>\n",
              "    </div>\n",
              "  </div>\n",
              "  "
            ]
          },
          "metadata": {},
          "execution_count": 126
        }
      ],
      "source": [
        "# Your code here\n",
        "data['Bad_Words'] = data['Comment'].apply(lambda x: int(any(i in x.split() for i in bad_words)))\n",
        "data.head(10)"
      ]
    },
    {
      "cell_type": "code",
      "execution_count": null,
      "metadata": {
        "collapsed": true,
        "id": "FRSLZpVkKR11",
        "colab": {
          "base_uri": "https://localhost:8080/"
        },
        "outputId": "8749aaad-5f94-4a7f-a2e3-840ba8640fd1"
      },
      "outputs": [
        {
          "output_type": "stream",
          "name": "stdout",
          "text": [
            "3229 comments, of which 558 contain bad words (17%)\n"
          ]
        }
      ],
      "source": [
        "print (\"%d comments, of which %d contain bad words (%d%%)\" % \\\n",
        "    (len(data), data.Bad_Words.sum(), 100 * data.Bad_Words.mean()))"
      ]
    },
    {
      "cell_type": "code",
      "execution_count": null,
      "metadata": {
        "collapsed": true,
        "id": "34F0AaPPKR11"
      },
      "outputs": [],
      "source": [
        "x = np.array(data['Bad_Words'])\n",
        "y = np.array(data['Insult'])"
      ]
    },
    {
      "cell_type": "code",
      "source": [
        "aa = accuracy_score(x,y).mean()\n",
        "print (\"Accuracy: %d%%\" % \\\n",
        "    (100 * aa))\n",
        "cc = (data.Insult == 0).mean()\n",
        "print (\"Naive Classifier Score: \", cc)\n",
        "pp = precision_score(x,y)\n",
        "print(\"Precision: \", pp)\n",
        "rr = recall_score(x,y)\n",
        "print(\"Recall: \", rr)\n",
        "ff = f1_score(x,y)\n",
        "print(\"F1 Score: \", ff)\n",
        "auc = roc_auc_score(x,y)\n",
        "print(\"AUC Score: \", auc)"
      ],
      "metadata": {
        "colab": {
          "base_uri": "https://localhost:8080/"
        },
        "id": "z-xRmUkp6MhI",
        "outputId": "bf2623ea-e2c8-4bc7-dc00-9b762ca7078f"
      },
      "execution_count": null,
      "outputs": [
        {
          "output_type": "stream",
          "name": "stdout",
          "text": [
            "Accuracy: 67%\n",
            "Naive Classifier Score:  0.7014555589965934\n",
            "Precision:  0.24688796680497926\n",
            "Recall:  0.4265232974910394\n",
            "F1 Score:  0.3127463863337714\n",
            "AUC Score:  0.5773574929986085\n"
          ]
        }
      ]
    },
    {
      "cell_type": "markdown",
      "source": [
        "**Verdict:**<br>\n",
        "Accuracy of this method is not promising. In this case, precision and recall are important as well to avoid false positives and false negatives. Obtained values of precision and recall are not good either. If we use the comments column as input other than extracting bad words the results might look better or worse. I've implementd the same below."
      ],
      "metadata": {
        "id": "ZCEhAL74pou4"
      }
    },
    {
      "cell_type": "markdown",
      "metadata": {
        "id": "yf-nhOWtKR13"
      },
      "source": [
        "### Learning bad words on the fly (10 pts)"
      ]
    },
    {
      "cell_type": "markdown",
      "metadata": {
        "id": "3BzW1UDkKR13"
      },
      "source": [
        "Another way of doing this, is to learn the insulting words on the fly using `CountVectorizer`.\n",
        "\n",
        "Please refer to the scikit learn tutorial at 'http://scikit-learn.org/stable/tutorial/text_analytics/working_with_text_data.html' if you need some help.\n",
        "\n",
        "Here is what you need to do:\n",
        "\n",
        "- Import `CountVectorizer` from `sklearn.feature_extraction.text`\n",
        "- Train the `CountVectorizer` on the insults and create a feature set $X$ representing words in the comments\n",
        "- Train `MultinomialNB` and `BernoulliNB` from `scikitsklearn`  on the new feature set $X$\n",
        "- Using cross-validation, compute the accuracy, precision, recall, F1 and AUC of your model\n",
        "- What is your verdict?\n",
        "\n",
        "NOTE: The F1 score is another useful score to compute when one of the two classes is very rare. We didn't go over it in class but it's basically the harmonic mean between precision and recall and goes from 0 (min) to 1 (max).  You can see more here: 'https://en.wikipedia.org/wiki/F1_score'"
      ]
    },
    {
      "cell_type": "code",
      "execution_count": null,
      "metadata": {
        "collapsed": true,
        "id": "SOsQRCEYKR15"
      },
      "outputs": [],
      "source": [
        "from sklearn.linear_model import LogisticRegression\n",
        "from sklearn.feature_extraction.text import CountVectorizer\n",
        "from sklearn.model_selection import cross_val_score,cross_val_predict\n",
        "from sklearn.naive_bayes import MultinomialNB"
      ]
    },
    {
      "cell_type": "code",
      "execution_count": null,
      "metadata": {
        "id": "kd-A638iKR16"
      },
      "outputs": [],
      "source": [
        "# Your code here\n",
        "cv = CountVectorizer()"
      ]
    },
    {
      "cell_type": "code",
      "execution_count": null,
      "metadata": {
        "collapsed": true,
        "id": "v8EohZZYKR16"
      },
      "outputs": [],
      "source": [
        "X = cv.fit_transform(data['Comment'])\n",
        "y = np.array(data['Insult'])"
      ]
    },
    {
      "cell_type": "code",
      "source": [
        "model = BernoulliNB()\n",
        "scores = ['accuracy','precision','recall','f1','roc_auc']\n",
        "print('model: {}'.format(model))\n",
        "model.fit(X,y)\n",
        "for score in scores:\n",
        "    mean_score = cross_val_score(model, X, y, scoring=score).mean()\n",
        "    if(score == 'accuracy'):\n",
        "      print('{}: {}%'.format(score, round(mean_score*100)))\n",
        "    else:\n",
        "      print('{}: {}'.format(score, mean_score))"
      ],
      "metadata": {
        "colab": {
          "base_uri": "https://localhost:8080/"
        },
        "id": "YZKP5Yn0vz13",
        "outputId": "46426ed6-2e5d-441a-eb1f-06da68bca7e8"
      },
      "execution_count": null,
      "outputs": [
        {
          "output_type": "stream",
          "name": "stdout",
          "text": [
            "model: BernoulliNB()\n",
            "accuracy: 72%\n",
            "precision: 0.5924841437632136\n",
            "recall: 0.2137251727115717\n",
            "f1: 0.31317717570962067\n",
            "roc_auc: 0.7953246408037761\n"
          ]
        }
      ]
    },
    {
      "cell_type": "code",
      "source": [
        "model = MultinomialNB()\n",
        "scores = ['accuracy','precision','recall','f1','roc_auc']\n",
        "print('model: {}'.format(model))\n",
        "model.fit(X,y)\n",
        "for score in scores:\n",
        "    mean_score = cross_val_score(model, X, y, scoring=score).mean()\n",
        "    if(score == 'accuracy'):\n",
        "      print('{}: {}%'.format(score, round(mean_score*100)))\n",
        "    else:\n",
        "      print('{}: {}'.format(score, mean_score))"
      ],
      "metadata": {
        "colab": {
          "base_uri": "https://localhost:8080/"
        },
        "id": "wtMAnbdKwbdX",
        "outputId": "7a80d1e0-dd7f-442a-9b7a-62eb459a38f7"
      },
      "execution_count": null,
      "outputs": [
        {
          "output_type": "stream",
          "name": "stdout",
          "text": [
            "model: MultinomialNB()\n",
            "accuracy: 76%\n",
            "precision: 0.5877351157530721\n",
            "recall: 0.6815468480138169\n",
            "f1: 0.6309042135477986\n",
            "roc_auc: 0.80386857955217\n"
          ]
        }
      ]
    },
    {
      "cell_type": "markdown",
      "source": [
        "**Verdict:**<br>\n",
        "Multinomial classifier did better than Bernoulli in terms of accuracy. But for insult classification dataset, we also have to consider the precision and recall score. Although catching maximum number of insults is the goal of this prediction, passing a clear string as an insult is not acceptable as well. So, considering F1 scores alongside accuracy, Multinomial classifier performs better than Bernoulli classifier."
      ],
      "metadata": {
        "id": "BWX42EL6tgef"
      }
    },
    {
      "cell_type": "markdown",
      "source": [
        "**Conclusion**<br>\n",
        "Considering the scores obtained on both the methods, \"Learning bad words on the fly\" gives better results compared to \"Looking for known bad words\"."
      ],
      "metadata": {
        "id": "ro0k7zv0z2i8"
      }
    }
  ],
  "metadata": {
    "anaconda-cloud": {},
    "kernelspec": {
      "display_name": "Python [conda root]",
      "language": "python",
      "name": "conda-root-py"
    },
    "language_info": {
      "codemirror_mode": {
        "name": "ipython",
        "version": 3
      },
      "file_extension": ".py",
      "mimetype": "text/x-python",
      "name": "python",
      "nbconvert_exporter": "python",
      "pygments_lexer": "ipython3",
      "version": "3.5.2"
    },
    "colab": {
      "provenance": [],
      "include_colab_link": true
    }
  },
  "nbformat": 4,
  "nbformat_minor": 0
}