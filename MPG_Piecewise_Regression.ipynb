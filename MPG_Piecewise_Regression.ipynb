{
  "nbformat": 4,
  "nbformat_minor": 0,
  "metadata": {
    "colab": {
      "provenance": [],
      "authorship_tag": "ABX9TyOpsJHfCLozM9q4qaZTadsf",
      "include_colab_link": true
    },
    "kernelspec": {
      "name": "python3",
      "display_name": "Python 3"
    },
    "language_info": {
      "name": "python"
    }
  },
  "cells": [
    {
      "cell_type": "markdown",
      "metadata": {
        "id": "view-in-github",
        "colab_type": "text"
      },
      "source": [
        "<a href=\"https://colab.research.google.com/github/pragnavi/Machine-Learning/blob/master/MPG_Piecewise_Regression.ipynb\" target=\"_parent\"><img src=\"https://colab.research.google.com/assets/colab-badge.svg\" alt=\"Open In Colab\"/></a>"
      ]
    },
    {
      "cell_type": "markdown",
      "source": [
        "**Importing Libraries**"
      ],
      "metadata": {
        "id": "PcaQGXAFrVW7"
      }
    },
    {
      "cell_type": "code",
      "execution_count": 65,
      "metadata": {
        "id": "lxVtdiTRXyUg"
      },
      "outputs": [],
      "source": [
        "import pandas as pd\n",
        "import numpy as np\n",
        "import matplotlib\n",
        "import matplotlib.pyplot as plt\n",
        "%matplotlib inline"
      ]
    },
    {
      "cell_type": "markdown",
      "source": [
        "**Importing Data**"
      ],
      "metadata": {
        "id": "-bxoY4yzs0m_"
      }
    },
    {
      "cell_type": "code",
      "source": [
        "names = ['mpg', 'cylinders','displacement', 'horsepower', \n",
        "         'weight', 'acceleration', 'model year', 'origin', 'car name']\n",
        "\n",
        "df = pd.read_csv('https://archive.ics.uci.edu/ml/machine-learning-databases/auto-mpg/auto-mpg.data',\n",
        "                 header=None,delim_whitespace=True,names=names,na_values='?')\n",
        "df = df.dropna()\n",
        "df = df.sort_values(by=['horsepower'])"
      ],
      "metadata": {
        "id": "ojZZr7_lsz-u"
      },
      "execution_count": 66,
      "outputs": []
    },
    {
      "cell_type": "markdown",
      "source": [
        "**Transforming Input Data**\n",
        "\n",
        "Transform the input data to form a data matrix X with multiple columns"
      ],
      "metadata": {
        "id": "6bxDeATptF8c"
      }
    },
    {
      "cell_type": "code",
      "source": [
        "X = df['horsepower'].values\n",
        "y = df['mpg'].values\n",
        "l = 100\n",
        "\n",
        "nsamp = X.shape[0]\n",
        "X = X.reshape([nsamp,1])\n",
        "\n",
        "zeros = np.zeros((nsamp,1))\n",
        "ones = np.ones((nsamp,1))\n",
        "X_orig = X\n",
        "X_mod = np.hstack((ones,X_orig))\n",
        "X = np.hstack((X_mod,zeros))\n",
        "for row in X:\n",
        "  if(row[1]>=l):\n",
        "    row[2]=row[1]-l\n",
        "    row[1]=l\n",
        "X.shape"
      ],
      "metadata": {
        "colab": {
          "base_uri": "https://localhost:8080/"
        },
        "id": "V3nhk63AtFrL",
        "outputId": "6f4abeed-67ad-4328-f56c-a36125915478"
      },
      "execution_count": 67,
      "outputs": [
        {
          "output_type": "execute_result",
          "data": {
            "text/plain": [
              "(392, 3)"
            ]
          },
          "metadata": {},
          "execution_count": 67
        }
      ]
    },
    {
      "cell_type": "markdown",
      "source": [
        "**Calculating Optimal β**"
      ],
      "metadata": {
        "id": "N9iQXw7cszk4"
      }
    },
    {
      "cell_type": "code",
      "source": [
        "Xt = np.transpose(X)\n",
        "beta= np.linalg.inv(Xt@X)@Xt@y\n",
        "print(\"Optimal Beta:\", beta)"
      ],
      "metadata": {
        "colab": {
          "base_uri": "https://localhost:8080/"
        },
        "id": "D8InJi9OurEM",
        "outputId": "67f70d67-ee1e-44a8-baa8-d623bcfe6b44"
      },
      "execution_count": 68,
      "outputs": [
        {
          "output_type": "stream",
          "name": "stdout",
          "text": [
            "Optimal Beta: [53.57724087 -0.32638817 -0.09142217]\n"
          ]
        }
      ]
    },
    {
      "cell_type": "markdown",
      "source": [
        "**Extracting Parameters**\n",
        "\n",
        "Extracting from the optimal 𝛽, optimal values for 𝑎1, 𝑠1, 𝑠2"
      ],
      "metadata": {
        "id": "AnbH8ejouyXS"
      }
    },
    {
      "cell_type": "code",
      "source": [
        "a1 = beta[0]\n",
        "s1 = beta[1]\n",
        "s2 = beta[2]\n",
        "print(\"Optimal a1:\", a1)\n",
        "print(\"Optimal s1:\", s1)\n",
        "print(\"Optimal s2:\", s2)"
      ],
      "metadata": {
        "colab": {
          "base_uri": "https://localhost:8080/"
        },
        "id": "8gU4TUqBvEZR",
        "outputId": "1d9ee5a5-2875-4071-da7e-9db5dc910ded"
      },
      "execution_count": 69,
      "outputs": [
        {
          "output_type": "stream",
          "name": "stdout",
          "text": [
            "Optimal a1: 53.57724087172677\n",
            "Optimal s1: -0.3263881725395733\n",
            "Optimal s2: -0.09142217282311646\n"
          ]
        }
      ]
    },
    {
      "cell_type": "markdown",
      "source": [],
      "metadata": {
        "id": "OwR2k8Quvw32"
      }
    },
    {
      "cell_type": "code",
      "source": [
        "x = df['horsepower'].values\n",
        "ypred = X@beta\n",
        "\n",
        "plt.plot(x, y,'o')                    # Plot the data points\n",
        "plt.plot(x, ypred,'-',linewidth=3)  # Plot the regression line (the predicted values)\n",
        "plt.xlabel('horsepower')\n",
        "plt.ylabel('mpg')\n",
        "plt.grid(True)"
      ],
      "metadata": {
        "colab": {
          "base_uri": "https://localhost:8080/",
          "height": 279
        },
        "id": "vH5j-YPCwjAA",
        "outputId": "bbf42ca5-d891-4b5c-b4ab-093f6d0db20a"
      },
      "execution_count": 77,
      "outputs": [
        {
          "output_type": "display_data",
          "data": {
            "text/plain": [
              "<Figure size 432x288 with 1 Axes>"
            ],
            "image/png": "[encoded data removed]"
          },
          "metadata": {
            "needs_background": "light"
          }
        }
      ]
    }
  ]
}